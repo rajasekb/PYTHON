{
 "cells": [
  {
   "cell_type": "markdown",
   "metadata": {},
   "source": [
    "# Conditional loops . If else if"
   ]
  },
  {
   "cell_type": "markdown",
   "metadata": {},
   "source": [
    "\n",
    "\n",
    "1. checks the condition:satsified ---> Executes the statements\n",
    "2. Checks the condition: not satisified ---> executes the statement in else part\n",
    "\n",
    "   -- equals: a == b\n",
    "   -- not equal : ! , a != b\n",
    "   -- greater than a > b\n",
    "   -- less than a < b"
   ]
  },
  {
   "cell_type": "markdown",
   "metadata": {},
   "source": [
    "## Syntax for if"
   ]
  },
  {
   "cell_type": "markdown",
   "metadata": {},
   "source": [
    "name = input(\"Enter the name\")\n",
    "\n",
    "if name == \"Balamuragan\":\n",
    "    print(\"Hello\",name)\n",
    "else:\n",
    "    print(\"Name you entered is\",name)\n",
    "    print(\"name is not matched\")"
   ]
  },
  {
   "cell_type": "code",
   "execution_count": 20,
   "metadata": {},
   "outputs": [
    {
     "name": "stdout",
     "output_type": "stream",
     "text": [
      "Enter number30\n",
      "Number is less than 30.0\n"
     ]
    }
   ],
   "source": [
    "num = float(input(\"Enter number\"))\n",
    "if num > 40:\n",
    "    print(\"Number is greater than \" + str(num))\n",
    "else:\n",
    "    print(\"Number is less than \" + str(num))"
   ]
  },
  {
   "cell_type": "markdown",
   "metadata": {},
   "source": [
    "## ELIF"
   ]
  },
  {
   "cell_type": "code",
   "execution_count": 27,
   "metadata": {},
   "outputs": [
    {
     "name": "stdout",
     "output_type": "stream",
     "text": [
      "Enter the number15\n",
      "Enter the number212\n",
      "Totla number is : 17\n"
     ]
    }
   ],
   "source": [
    "a = int(input(\"Enter the number1\"))\n",
    "b = int(input(\"Enter the number2\"))\n",
    "summ = a+b\n",
    "if(summ <=20):\n",
    "    print(\"Totla number is :\",summ)\n",
    "elif(summ == 100):\n",
    "    print(\"Number is century\")\n",
    "else:\n",
    "    print(\"Last number\")"
   ]
  },
  {
   "cell_type": "markdown",
   "metadata": {},
   "source": [
    "### Grade example"
   ]
  },
  {
   "cell_type": "code",
   "execution_count": 33,
   "metadata": {},
   "outputs": [
    {
     "name": "stdout",
     "output_type": "stream",
     "text": [
      "Enter marks75\n",
      "B Grade\n"
     ]
    }
   ],
   "source": [
    "marks = int(input(\"Enter marks\"))\n",
    "if marks > 90:\n",
    "    print(\"A GRADE\")\n",
    "elif(marks >=70 and marks <=90):\n",
    "    print(\"B Grade\")\n",
    "else:\n",
    "    print(\"C GRADE\")"
   ]
  },
  {
   "cell_type": "markdown",
   "metadata": {},
   "source": [
    "## Shortcut for if - else"
   ]
  },
  {
   "cell_type": "code",
   "execution_count": 37,
   "metadata": {},
   "outputs": [
    {
     "name": "stdout",
     "output_type": "stream",
     "text": [
      "B is greater than a\n"
     ]
    }
   ],
   "source": [
    "a = 100\n",
    "b = 120\n",
    "print(\"a ids greater than b\") if a > b  else print(\"B is greater than a\")"
   ]
  },
  {
   "cell_type": "code",
   "execution_count": 42,
   "metadata": {},
   "outputs": [
    {
     "name": "stdout",
     "output_type": "stream",
     "text": [
      "Budget is less\n"
     ]
    }
   ],
   "source": [
    "hero = 50\n",
    "heroine = 20\n",
    "comedian = 40\n",
    "\n",
    "print(\"budget is more\") if (hero>60) and (comedian >60) else print(\"Budget is less\")\n",
    "    \n"
   ]
  },
  {
   "cell_type": "markdown",
   "metadata": {},
   "source": [
    "## Nested if"
   ]
  },
  {
   "cell_type": "code",
   "execution_count": 45,
   "metadata": {},
   "outputs": [
    {
     "name": "stdout",
     "output_type": "stream",
     "text": [
      "Inside loop1\n",
      "Inside loop2\n",
      "Inside loop3\n"
     ]
    }
   ],
   "source": [
    "a = 10\n",
    "b = 12\n",
    "c = 19\n",
    "if(a>5):\n",
    "    print(\"Inside loop1\")\n",
    "    if(b>10):\n",
    "        print(\"Inside loop2\")\n",
    "        if(c>15):\n",
    "            print(\"Inside loop3\")\n",
    "        "
   ]
  },
  {
   "cell_type": "markdown",
   "metadata": {},
   "source": [
    "Inside an if :PASS is used to avoid errors"
   ]
  },
  {
   "cell_type": "code",
   "execution_count": 46,
   "metadata": {},
   "outputs": [],
   "source": [
    "if(a>5):\n",
    "    pass"
   ]
  },
  {
   "cell_type": "markdown",
   "metadata": {},
   "source": [
    "# For and While loops:"
   ]
  },
  {
   "cell_type": "code",
   "execution_count": 52,
   "metadata": {},
   "outputs": [
    {
     "name": "stdout",
     "output_type": "stream",
     "text": [
      "0\n",
      "1\n",
      "2\n",
      "3\n",
      "4\n",
      "5\n",
      "6\n",
      "7\n",
      "8\n",
      "9\n"
     ]
    }
   ],
   "source": [
    "for i in range (10):\n",
    "    print(i)"
   ]
  },
  {
   "cell_type": "code",
   "execution_count": 4,
   "metadata": {},
   "outputs": [
    {
     "name": "stdout",
     "output_type": "stream",
     "text": [
      "Even numbers: 0\n",
      "Odd numbers: 1\n",
      "Even numbers: 2\n",
      "Odd numbers: 3\n",
      "Even numbers: 4\n",
      "Odd numbers: 5\n",
      "Even numbers: 6\n",
      "Odd numbers: 7\n",
      "Even numbers: 8\n",
      "Odd numbers: 9\n"
     ]
    }
   ],
   "source": [
    "for i in range (10):\n",
    "    if i%2 == 0:\n",
    "        print(\"Even numbers:\",i)\n",
    "    else:\n",
    "        print(\"Odd numbers:\",i)\n",
    "            \n",
    "    "
   ]
  },
  {
   "cell_type": "code",
   "execution_count": 7,
   "metadata": {},
   "outputs": [
    {
     "name": "stdout",
     "output_type": "stream",
     "text": [
      "30\n",
      "25\n"
     ]
    }
   ],
   "source": [
    "a = 0\n",
    "b = 0\n",
    "for i in range (11):\n",
    "    if i%2 == 0:\n",
    "        a += i\n",
    "    else:\n",
    "        b += i\n",
    "        \n",
    "print(a)\n",
    "print(b)\n",
    "       \n",
    "            \n",
    "    "
   ]
  },
  {
   "cell_type": "markdown",
   "metadata": {},
   "source": [
    "## Property file"
   ]
  },
  {
   "cell_type": "code",
   "execution_count": 12,
   "metadata": {},
   "outputs": [
    {
     "data": {
      "text/plain": [
       "[0, 1, 2, 3, 4, 5, 6, 7, 8, 9]"
      ]
     },
     "execution_count": 12,
     "metadata": {},
     "output_type": "execute_result"
    }
   ],
   "source": [
    "lst=[]\n",
    "for i in range(10):\n",
    "    lst.append(i)\n",
    "lst\n"
   ]
  },
  {
   "cell_type": "code",
   "execution_count": 13,
   "metadata": {},
   "outputs": [
    {
     "data": {
      "text/plain": [
       "1"
      ]
     },
     "execution_count": 13,
     "metadata": {},
     "output_type": "execute_result"
    }
   ],
   "source": [
    "lst[1]"
   ]
  },
  {
   "cell_type": "code",
   "execution_count": 17,
   "metadata": {},
   "outputs": [
    {
     "name": "stdout",
     "output_type": "stream",
     "text": [
      "Enter marks one by one39\n",
      "Enter marks one by one94\n",
      "Enter marks one by one94\n",
      "Enter marks one by one94\n",
      "Enter marks one by one94\n",
      "Enter marks one by one94\n"
     ]
    },
    {
     "data": {
      "text/plain": [
       "[39, 94, 94, 94, 94, 94]"
      ]
     },
     "execution_count": 17,
     "metadata": {},
     "output_type": "execute_result"
    }
   ],
   "source": [
    "marks = []\n",
    "for i in range(6):\n",
    "    mark = int(input(\"Enter marks one by one\"))\n",
    "    marks.append(mark)\n",
    "marks    "
   ]
  },
  {
   "cell_type": "code",
   "execution_count": 18,
   "metadata": {},
   "outputs": [],
   "source": [
    "lst1 = [45,67,34,98,87]"
   ]
  },
  {
   "cell_type": "code",
   "execution_count": 19,
   "metadata": {},
   "outputs": [
    {
     "data": {
      "text/plain": [
       "5"
      ]
     },
     "execution_count": 19,
     "metadata": {},
     "output_type": "execute_result"
    }
   ],
   "source": [
    "len(lst1)"
   ]
  },
  {
   "cell_type": "code",
   "execution_count": 20,
   "metadata": {},
   "outputs": [
    {
     "name": "stdout",
     "output_type": "stream",
     "text": [
      "The mark 45 Cgrade\n",
      "The mark 67 Cgrade\n",
      "The mark 34 Cgrade\n",
      "The mark 98A grade\n",
      "The mark 87 B Grade\n"
     ]
    }
   ],
   "source": [
    "test_list = [45,67,34,98,87]\n",
    "\n",
    "for i in range(0,len(test_list)):  \n",
    "    if test_list[i] >= 90 :      \n",
    "     \n",
    "        print('The mark ' +str(test_list[i] ) +'A grade')\n",
    "    elif test_list[i]  >= 70 and test_list[i] <= 90:\n",
    "        print('The mark '+ str(test_list[i] ) + ' B Grade')\n",
    "    else:\n",
    "         print('The mark ' + str(test_list[i] ) +' Cgrade')\n"
   ]
  },
  {
   "cell_type": "markdown",
   "metadata": {},
   "source": [
    "# Need to look into it"
   ]
  },
  {
   "cell_type": "code",
   "execution_count": 21,
   "metadata": {},
   "outputs": [
    {
     "name": "stdout",
     "output_type": "stream",
     "text": [
      "Enter marks76\n",
      "Enter marks87\n",
      "Enter marks76\n",
      "Enter marks65\n",
      "Enter marks90\n",
      "Student has grade B\n"
     ]
    }
   ],
   "source": [
    "marks = []\n",
    "for i in range(0,5):\n",
    "    mark = int(input(\"Enter marks\"))\n",
    "    marks.append(mark)\n",
    "sum_marks = sum(marks) / 5\n",
    "if(sum_marks >= 90):\n",
    "    print(\"Student has grade A\")\n",
    "elif(sum_marks >= 70 and sum_marks <= 90):\n",
    "    print(\"Student has grade B\")\n",
    "else:\n",
    "    print(\"Student has grade C\")\n"
   ]
  },
  {
   "cell_type": "code",
   "execution_count": 15,
   "metadata": {},
   "outputs": [
    {
     "name": "stdout",
     "output_type": "stream",
     "text": [
      "0,1,2,3,4,5,6,7,8,9,10,11,12,13,14,15,16,17,18,19,"
     ]
    }
   ],
   "source": [
    "for i in range(0, 20):\n",
    "    print(i, end=\",\")\n"
   ]
  },
  {
   "cell_type": "markdown",
   "metadata": {},
   "source": [
    "### Continue"
   ]
  },
  {
   "cell_type": "code",
   "execution_count": null,
   "metadata": {},
   "outputs": [],
   "source": [
    "name = input(\"Enter your name\")\n",
    "for i in name:\n",
    "    if i == 'a':\n",
    "        continue\n",
    "print(i)\n",
    "    "
   ]
  },
  {
   "cell_type": "code",
   "execution_count": 25,
   "metadata": {},
   "outputs": [
    {
     "name": "stdout",
     "output_type": "stream",
     "text": [
      "Enter your namerjjasekhr\n",
      "r\n",
      "j\n",
      "j\n"
     ]
    }
   ],
   "source": [
    "name = input(\"Enter your name\")\n",
    "for i in name:\n",
    "    if i == 'a':\n",
    "        break\n",
    "    print(i)\n",
    "    "
   ]
  },
  {
   "cell_type": "markdown",
   "metadata": {},
   "source": [
    "## Continue ---> Needs to be used in loop\n",
    "## break ---> it will break the loop once the condition is met\n",
    "## pass  ---> it will pass once the condition is met"
   ]
  },
  {
   "cell_type": "code",
   "execution_count": 2,
   "metadata": {},
   "outputs": [
    {
     "name": "stdout",
     "output_type": "stream",
     "text": [
      "Name is  Rajsekhar\n",
      "Name is  Ramesh\n",
      "Name is  Kumar\n"
     ]
    }
   ],
   "source": [
    "name = ['Rajsekhar','Ramesh','Kumar']\n",
    "for i in name:\n",
    "    break\n",
    "\n",
    "for j in name:\n",
    "    print(\"Name is \",j)"
   ]
  },
  {
   "cell_type": "markdown",
   "metadata": {},
   "source": [
    "# While loop"
   ]
  },
  {
   "cell_type": "code",
   "execution_count": 1,
   "metadata": {},
   "outputs": [
    {
     "name": "stdout",
     "output_type": "stream",
     "text": [
      "0\n",
      "1\n",
      "2\n",
      "3\n",
      "4\n",
      "5\n"
     ]
    }
   ],
   "source": [
    "j = 0\n",
    "while j<=5:\n",
    "    print(j)\n",
    "    j+=1"
   ]
  },
  {
   "cell_type": "markdown",
   "metadata": {},
   "source": [
    "# Functions\n"
   ]
  },
  {
   "cell_type": "markdown",
   "metadata": {},
   "source": [
    "Resuable set of instructions"
   ]
  },
  {
   "cell_type": "code",
   "execution_count": 6,
   "metadata": {},
   "outputs": [],
   "source": [
    "def sts():\n",
    "    '''This is samepl fnction'''\n",
    "    print(\"Done\")"
   ]
  },
  {
   "cell_type": "code",
   "execution_count": 5,
   "metadata": {},
   "outputs": [
    {
     "name": "stdout",
     "output_type": "stream",
     "text": [
      "Done\n"
     ]
    }
   ],
   "source": [
    "sts()"
   ]
  },
  {
   "cell_type": "code",
   "execution_count": 7,
   "metadata": {},
   "outputs": [
    {
     "data": {
      "text/plain": [
       "'This is samepl fnction'"
      ]
     },
     "execution_count": 7,
     "metadata": {},
     "output_type": "execute_result"
    }
   ],
   "source": [
    "sts.__doc__"
   ]
  },
  {
   "cell_type": "code",
   "execution_count": null,
   "metadata": {},
   "outputs": [],
   "source": []
  }
 ],
 "metadata": {
  "kernelspec": {
   "display_name": "Python 3",
   "language": "python",
   "name": "python3"
  },
  "language_info": {
   "codemirror_mode": {
    "name": "ipython",
    "version": 3
   },
   "file_extension": ".py",
   "mimetype": "text/x-python",
   "name": "python",
   "nbconvert_exporter": "python",
   "pygments_lexer": "ipython3",
   "version": "3.7.6"
  }
 },
 "nbformat": 4,
 "nbformat_minor": 4
}
