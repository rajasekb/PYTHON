{
 "cells": [
  {
   "cell_type": "markdown",
   "metadata": {},
   "source": [
    "# AI material \n",
    "https://github.com/anujvyas    "
   ]
  },
  {
   "cell_type": "markdown",
   "metadata": {},
   "source": [
    "List ---> Mutable and slow in nature because. It has two memory blocks. 1st to store and 2nd is \n",
    "Tuple ---> Immutable"
   ]
  },
  {
   "cell_type": "markdown",
   "metadata": {},
   "source": [
    "Python Memory management : using private heap space. \n",
    "Unwanted memory is cleaned using garbage collector"
   ]
  },
  {
   "cell_type": "markdown",
   "metadata": {},
   "source": [
    "# Writing blogs"
   ]
  },
  {
   "cell_type": "markdown",
   "metadata": {},
   "source": [
    "https://www.blogger.com/onboarding?pli=1\n",
    "\n",
    "google blogs"
   ]
  },
  {
   "cell_type": "markdown",
   "metadata": {},
   "source": [
    "# Spark Certification\n",
    "\n",
    "https://www.youtube.com/watch?v=6khwhruKoDw&list=PLf0swTFhTI8qD1UIToygTApiyGenfusqD"
   ]
  }
 ],
 "metadata": {
  "kernelspec": {
   "display_name": "Python 3",
   "language": "python",
   "name": "python3"
  },
  "language_info": {
   "codemirror_mode": {
    "name": "ipython",
    "version": 3
   },
   "file_extension": ".py",
   "mimetype": "text/x-python",
   "name": "python",
   "nbconvert_exporter": "python",
   "pygments_lexer": "ipython3",
   "version": "3.7.6"
  }
 },
 "nbformat": 4,
 "nbformat_minor": 4
}
