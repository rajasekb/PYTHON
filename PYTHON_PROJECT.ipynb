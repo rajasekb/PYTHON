{
 "cells": [
  {
   "cell_type": "code",
   "execution_count": 3,
   "metadata": {},
   "outputs": [
    {
     "name": "stdout",
     "output_type": "stream",
     "text": [
      "pygame 2.0.0 (SDL 2.0.12, python 3.7.6)\n",
      "Hello from the pygame community. https://www.pygame.org/contribute.html\n",
      "This is sample program\n"
     ]
    }
   ],
   "source": [
    "import pygame\n",
    "import time\n",
    "print(\"This is sample program\")"
   ]
  },
  {
   "cell_type": "code",
   "execution_count": 2,
   "metadata": {},
   "outputs": [
    {
     "name": "stdout",
     "output_type": "stream",
     "text": [
      "Collecting pygame\n",
      "  Using cached pygame-2.0.0-cp37-cp37m-win_amd64.whl (5.1 MB)\n",
      "Installing collected packages: pygame\n",
      "Successfully installed pygame-2.0.0\n",
      "Note: you may need to restart the kernel to use updated packages.\n"
     ]
    }
   ],
   "source": [
    "pip install pygame"
   ]
  },
  {
   "cell_type": "code",
   "execution_count": null,
   "metadata": {},
   "outputs": [],
   "source": [
    "import pygame\n",
    "from pygame.locals import *\n",
    "\n",
    "def draw_block():\n",
    "    surface.fill((110,110,84))\n",
    "    surface.blit(block,(block_x,block_y))\n",
    "    pygame.display.flip()\n",
    "\n",
    "if __name__ == \"__main__\":\n",
    "    pygame.init()\n",
    "    surface=pygame.display.set_mode((500,500))\n",
    "    surface.fill((110,110,84))\n",
    "    block = pygame.image.load(\"C:///Users//Lenovo///Desktop///Data_Science///Inceptez///December///PYTHON///Snake_Game_data//Block.jpg\").convert()\n",
    "    block_x = 100\n",
    "    block_y = 100\n",
    "    surface.blit(block,(block_x,block_y))\n",
    "    pygame.display.flip()\n",
    "\n",
    "    running = True\n",
    "    while running:\n",
    "        for event in pygame.event.get():\n",
    "            if event.type == KEYDOWN:\n",
    "                if event.key == K_ESCAPE:\n",
    "                    running = False\n",
    "                if event.key == K_UP:\n",
    "                    block_y -= 10\n",
    "                    draw_block()\n",
    "                if event.key == K_DOWN:\n",
    "                    block_y += 10\n",
    "                    draw_block()\n",
    "                if event.key == K_LEFT:\n",
    "                    block_x -= 10\n",
    "                    draw_block()\n",
    "                if event.key == K_RIGHT:\n",
    "                    block_x += 10\n",
    "                    draw_block()\n",
    "            elif event.type == QUIT:\n",
    "                running = False\n",
    "\n"
   ]
  },
  {
   "cell_type": "code",
   "execution_count": null,
   "metadata": {},
   "outputs": [],
   "source": []
  }
 ],
 "metadata": {
  "kernelspec": {
   "display_name": "Python 3",
   "language": "python",
   "name": "python3"
  },
  "language_info": {
   "codemirror_mode": {
    "name": "ipython",
    "version": 3
   },
   "file_extension": ".py",
   "mimetype": "text/x-python",
   "name": "python",
   "nbconvert_exporter": "python",
   "pygments_lexer": "ipython3",
   "version": "3.7.6"
  }
 },
 "nbformat": 4,
 "nbformat_minor": 4
}
