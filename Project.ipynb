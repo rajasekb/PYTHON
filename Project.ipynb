{
 "cells": [
  {
   "cell_type": "code",
   "execution_count": 229,
   "metadata": {},
   "outputs": [],
   "source": [
    "import pandas as pd\n",
    "import datetime\n",
    "import numpy as np\n"
   ]
  },
  {
   "cell_type": "code",
   "execution_count": 230,
   "metadata": {},
   "outputs": [
    {
     "data": {
      "text/html": [
       "<div>\n",
       "<style scoped>\n",
       "    .dataframe tbody tr th:only-of-type {\n",
       "        vertical-align: middle;\n",
       "    }\n",
       "\n",
       "    .dataframe tbody tr th {\n",
       "        vertical-align: top;\n",
       "    }\n",
       "\n",
       "    .dataframe thead th {\n",
       "        text-align: right;\n",
       "    }\n",
       "</style>\n",
       "<table border=\"1\" class=\"dataframe\">\n",
       "  <thead>\n",
       "    <tr style=\"text-align: right;\">\n",
       "      <th></th>\n",
       "      <th>RPT_DT</th>\n",
       "      <th>RPT_DT1</th>\n",
       "      <th>Core_order_count</th>\n",
       "      <th>Core_Item_Price</th>\n",
       "      <th>DM_Order_Count</th>\n",
       "      <th>DM_Item_Price</th>\n",
       "    </tr>\n",
       "  </thead>\n",
       "  <tbody>\n",
       "    <tr>\n",
       "      <th>0</th>\n",
       "      <td>2020-08-01</td>\n",
       "      <td>2020-08-01</td>\n",
       "      <td>502</td>\n",
       "      <td>551.616303</td>\n",
       "      <td>1023</td>\n",
       "      <td>682.959182</td>\n",
       "    </tr>\n",
       "    <tr>\n",
       "      <th>1</th>\n",
       "      <td>2020-08-02</td>\n",
       "      <td>2020-08-02</td>\n",
       "      <td>503</td>\n",
       "      <td>555.042494</td>\n",
       "      <td>1024</td>\n",
       "      <td>683.959182</td>\n",
       "    </tr>\n",
       "  </tbody>\n",
       "</table>\n",
       "</div>"
      ],
      "text/plain": [
       "      RPT_DT     RPT_DT1  Core_order_count  Core_Item_Price  DM_Order_Count  \\\n",
       "0 2020-08-01  2020-08-01               502       551.616303            1023   \n",
       "1 2020-08-02  2020-08-02               503       555.042494            1024   \n",
       "\n",
       "   DM_Item_Price  \n",
       "0     682.959182  \n",
       "1     683.959182  "
      ]
     },
     "execution_count": 230,
     "metadata": {},
     "output_type": "execute_result"
    }
   ],
   "source": [
    "df = pd.read_csv(r'C:\\Users\\Lenovo\\Desktop\\Data_Science\\Inceptez\\SOURCE\\Project_data.txt')\n",
    "df['RPT_DT'] = pd.to_datetime(df['RPT_DT'])\n",
    "df.head(2)"
   ]
  },
  {
   "cell_type": "code",
   "execution_count": 231,
   "metadata": {},
   "outputs": [
    {
     "data": {
      "text/plain": [
       "'2021-01'"
      ]
     },
     "execution_count": 231,
     "metadata": {},
     "output_type": "execute_result"
    }
   ],
   "source": [
    "Previous_Date = datetime.datetime.today() - datetime.timedelta(days=1)\n",
    "Previous_Date.strftime(\"%Y-%m\")\n"
   ]
  },
  {
   "cell_type": "code",
   "execution_count": 232,
   "metadata": {},
   "outputs": [
    {
     "data": {
      "text/plain": [
       "(RPT_DT   2020-08-01\n",
       " dtype: datetime64[ns],\n",
       " RPT_DT   2021-01-08\n",
       " dtype: datetime64[ns])"
      ]
     },
     "execution_count": 232,
     "metadata": {},
     "output_type": "execute_result"
    }
   ],
   "source": [
    "k = df[['RPT_DT']].min(),df[['RPT_DT']].max()\n",
    "#print(df[['RPT_DT']].max())\n",
    "k"
   ]
  },
  {
   "cell_type": "code",
   "execution_count": 213,
   "metadata": {},
   "outputs": [
    {
     "data": {
      "text/html": [
       "<div>\n",
       "<style scoped>\n",
       "    .dataframe tbody tr th:only-of-type {\n",
       "        vertical-align: middle;\n",
       "    }\n",
       "\n",
       "    .dataframe tbody tr th {\n",
       "        vertical-align: top;\n",
       "    }\n",
       "\n",
       "    .dataframe thead th {\n",
       "        text-align: right;\n",
       "    }\n",
       "</style>\n",
       "<table border=\"1\" class=\"dataframe\">\n",
       "  <thead>\n",
       "    <tr style=\"text-align: right;\">\n",
       "      <th></th>\n",
       "      <th>RPT_DT</th>\n",
       "      <th>RPT_DT1</th>\n",
       "      <th>Core_order_count</th>\n",
       "      <th>Core_Item_Price</th>\n",
       "      <th>DM_Order_Count</th>\n",
       "      <th>DM_Item_Price</th>\n",
       "      <th>Year_Month</th>\n",
       "    </tr>\n",
       "  </thead>\n",
       "  <tbody>\n",
       "    <tr>\n",
       "      <th>0</th>\n",
       "      <td>2020-08-01</td>\n",
       "      <td>2020-08-01</td>\n",
       "      <td>502</td>\n",
       "      <td>551.616303</td>\n",
       "      <td>1023</td>\n",
       "      <td>682.959182</td>\n",
       "      <td>2020-08</td>\n",
       "    </tr>\n",
       "    <tr>\n",
       "      <th>1</th>\n",
       "      <td>2020-08-02</td>\n",
       "      <td>2020-08-02</td>\n",
       "      <td>503</td>\n",
       "      <td>555.042494</td>\n",
       "      <td>1024</td>\n",
       "      <td>683.959182</td>\n",
       "      <td>2020-08</td>\n",
       "    </tr>\n",
       "  </tbody>\n",
       "</table>\n",
       "</div>"
      ],
      "text/plain": [
       "      RPT_DT     RPT_DT1  Core_order_count  Core_Item_Price  DM_Order_Count  \\\n",
       "0 2020-08-01  2020-08-01               502       551.616303            1023   \n",
       "1 2020-08-02  2020-08-02               503       555.042494            1024   \n",
       "\n",
       "   DM_Item_Price Year_Month  \n",
       "0     682.959182    2020-08  \n",
       "1     683.959182    2020-08  "
      ]
     },
     "execution_count": 213,
     "metadata": {},
     "output_type": "execute_result"
    }
   ],
   "source": [
    "df['Year_Month'] = df['RPT_DT'].apply(lambda x: x.strftime(\"%Y-%m\"))\n",
    "df.head(2)\n"
   ]
  },
  {
   "cell_type": "code",
   "execution_count": 214,
   "metadata": {},
   "outputs": [
    {
     "data": {
      "text/html": [
       "<div>\n",
       "<style scoped>\n",
       "    .dataframe tbody tr th:only-of-type {\n",
       "        vertical-align: middle;\n",
       "    }\n",
       "\n",
       "    .dataframe tbody tr th {\n",
       "        vertical-align: top;\n",
       "    }\n",
       "\n",
       "    .dataframe thead th {\n",
       "        text-align: right;\n",
       "    }\n",
       "</style>\n",
       "<table border=\"1\" class=\"dataframe\">\n",
       "  <thead>\n",
       "    <tr style=\"text-align: right;\">\n",
       "      <th></th>\n",
       "      <th>RPT_DT</th>\n",
       "      <th>RPT_DT1</th>\n",
       "      <th>Core_order_count</th>\n",
       "      <th>Core_Item_Price</th>\n",
       "      <th>DM_Order_Count</th>\n",
       "      <th>DM_Item_Price</th>\n",
       "      <th>Year_Month</th>\n",
       "    </tr>\n",
       "  </thead>\n",
       "  <tbody>\n",
       "    <tr>\n",
       "      <th>153</th>\n",
       "      <td>2021-01-01</td>\n",
       "      <td>2021-01-01</td>\n",
       "      <td>759</td>\n",
       "      <td>711.221093</td>\n",
       "      <td>689</td>\n",
       "      <td>640.697271</td>\n",
       "      <td>2021-01</td>\n",
       "    </tr>\n",
       "    <tr>\n",
       "      <th>154</th>\n",
       "      <td>2021-01-02</td>\n",
       "      <td>2021-01-02</td>\n",
       "      <td>760</td>\n",
       "      <td>712.221093</td>\n",
       "      <td>690</td>\n",
       "      <td>644.123463</td>\n",
       "      <td>2021-01</td>\n",
       "    </tr>\n",
       "    <tr>\n",
       "      <th>155</th>\n",
       "      <td>2021-01-03</td>\n",
       "      <td>2021-01-03</td>\n",
       "      <td>761</td>\n",
       "      <td>713.221093</td>\n",
       "      <td>691</td>\n",
       "      <td>647.549654</td>\n",
       "      <td>2021-01</td>\n",
       "    </tr>\n",
       "    <tr>\n",
       "      <th>156</th>\n",
       "      <td>2021-01-04</td>\n",
       "      <td>2021-01-04</td>\n",
       "      <td>762</td>\n",
       "      <td>714.221093</td>\n",
       "      <td>692</td>\n",
       "      <td>650.975845</td>\n",
       "      <td>2021-01</td>\n",
       "    </tr>\n",
       "    <tr>\n",
       "      <th>157</th>\n",
       "      <td>2021-01-05</td>\n",
       "      <td>2021-01-05</td>\n",
       "      <td>763</td>\n",
       "      <td>715.221093</td>\n",
       "      <td>693</td>\n",
       "      <td>654.402036</td>\n",
       "      <td>2021-01</td>\n",
       "    </tr>\n",
       "    <tr>\n",
       "      <th>158</th>\n",
       "      <td>2021-01-06</td>\n",
       "      <td>2021-01-06</td>\n",
       "      <td>764</td>\n",
       "      <td>716.221093</td>\n",
       "      <td>694</td>\n",
       "      <td>657.828227</td>\n",
       "      <td>2021-01</td>\n",
       "    </tr>\n",
       "    <tr>\n",
       "      <th>159</th>\n",
       "      <td>2021-01-07</td>\n",
       "      <td>2021-01-07</td>\n",
       "      <td>764</td>\n",
       "      <td>717.221093</td>\n",
       "      <td>695</td>\n",
       "      <td>661.254418</td>\n",
       "      <td>2021-01</td>\n",
       "    </tr>\n",
       "    <tr>\n",
       "      <th>160</th>\n",
       "      <td>2021-01-08</td>\n",
       "      <td>2021-01-08</td>\n",
       "      <td>764</td>\n",
       "      <td>718.221093</td>\n",
       "      <td>696</td>\n",
       "      <td>664.680609</td>\n",
       "      <td>2021-01</td>\n",
       "    </tr>\n",
       "  </tbody>\n",
       "</table>\n",
       "</div>"
      ],
      "text/plain": [
       "        RPT_DT     RPT_DT1  Core_order_count  Core_Item_Price  DM_Order_Count  \\\n",
       "153 2021-01-01  2021-01-01               759       711.221093             689   \n",
       "154 2021-01-02  2021-01-02               760       712.221093             690   \n",
       "155 2021-01-03  2021-01-03               761       713.221093             691   \n",
       "156 2021-01-04  2021-01-04               762       714.221093             692   \n",
       "157 2021-01-05  2021-01-05               763       715.221093             693   \n",
       "158 2021-01-06  2021-01-06               764       716.221093             694   \n",
       "159 2021-01-07  2021-01-07               764       717.221093             695   \n",
       "160 2021-01-08  2021-01-08               764       718.221093             696   \n",
       "\n",
       "     DM_Item_Price Year_Month  \n",
       "153     640.697271    2021-01  \n",
       "154     644.123463    2021-01  \n",
       "155     647.549654    2021-01  \n",
       "156     650.975845    2021-01  \n",
       "157     654.402036    2021-01  \n",
       "158     657.828227    2021-01  \n",
       "159     661.254418    2021-01  \n",
       "160     664.680609    2021-01  "
      ]
     },
     "execution_count": 214,
     "metadata": {},
     "output_type": "execute_result"
    }
   ],
   "source": [
    "df.loc[df['Year_Month'] == Previous_Date.strftime(\"%Y-%m\")]\n"
   ]
  },
  {
   "cell_type": "markdown",
   "metadata": {},
   "source": [
    "# Actual Approach"
   ]
  },
  {
   "cell_type": "code",
   "execution_count": 24,
   "metadata": {},
   "outputs": [],
   "source": [
    "import pandas as pd\n",
    "import datetime\n",
    "import numpy as np\n"
   ]
  },
  {
   "cell_type": "code",
   "execution_count": 25,
   "metadata": {},
   "outputs": [
    {
     "data": {
      "text/html": [
       "<div>\n",
       "<style scoped>\n",
       "    .dataframe tbody tr th:only-of-type {\n",
       "        vertical-align: middle;\n",
       "    }\n",
       "\n",
       "    .dataframe tbody tr th {\n",
       "        vertical-align: top;\n",
       "    }\n",
       "\n",
       "    .dataframe thead th {\n",
       "        text-align: right;\n",
       "    }\n",
       "</style>\n",
       "<table border=\"1\" class=\"dataframe\">\n",
       "  <thead>\n",
       "    <tr style=\"text-align: right;\">\n",
       "      <th></th>\n",
       "      <th>RPT_DT</th>\n",
       "      <th>RPT_DT1</th>\n",
       "      <th>Core_order_count</th>\n",
       "      <th>Core_Item_Price</th>\n",
       "      <th>DM_Order_Count</th>\n",
       "      <th>DM_Item_Price</th>\n",
       "    </tr>\n",
       "  </thead>\n",
       "  <tbody>\n",
       "    <tr>\n",
       "      <th>0</th>\n",
       "      <td>2020-08-01</td>\n",
       "      <td>2020-08-01</td>\n",
       "      <td>502</td>\n",
       "      <td>551.616303</td>\n",
       "      <td>1023</td>\n",
       "      <td>682.959182</td>\n",
       "    </tr>\n",
       "    <tr>\n",
       "      <th>1</th>\n",
       "      <td>2020-08-02</td>\n",
       "      <td>2020-08-02</td>\n",
       "      <td>503</td>\n",
       "      <td>555.042494</td>\n",
       "      <td>1024</td>\n",
       "      <td>683.959182</td>\n",
       "    </tr>\n",
       "  </tbody>\n",
       "</table>\n",
       "</div>"
      ],
      "text/plain": [
       "      RPT_DT     RPT_DT1  Core_order_count  Core_Item_Price  DM_Order_Count  \\\n",
       "0 2020-08-01  2020-08-01               502       551.616303            1023   \n",
       "1 2020-08-02  2020-08-02               503       555.042494            1024   \n",
       "\n",
       "   DM_Item_Price  \n",
       "0     682.959182  \n",
       "1     683.959182  "
      ]
     },
     "execution_count": 25,
     "metadata": {},
     "output_type": "execute_result"
    }
   ],
   "source": [
    "df = pd.read_csv(r'C:\\Users\\Lenovo\\Desktop\\Data_Science\\Inceptez\\SOURCE\\Project_data.txt')\n",
    "df['RPT_DT'] = pd.to_datetime(df['RPT_DT'])\n",
    "df.head(2)"
   ]
  },
  {
   "cell_type": "code",
   "execution_count": 26,
   "metadata": {},
   "outputs": [],
   "source": [
    "#df.apply(lambda x: x.strftime('%Y-%m-%d'))\n",
    "#df['RPT_DT'] = df['RPT_DT'].apply(lambda x: x.strftime('%Y-%m-%d'))\n",
    "\n",
    "df['Year_Month'] = df['RPT_DT'].apply(lambda x: x.strftime(\"%Y-%m\"))\n",
    "df['RPT_DT'] = df['RPT_DT'].apply(lambda x: x.strftime(\"%Y-%m-%d\"))\n"
   ]
  },
  {
   "cell_type": "code",
   "execution_count": 4,
   "metadata": {},
   "outputs": [
    {
     "data": {
      "text/html": [
       "<div>\n",
       "<style scoped>\n",
       "    .dataframe tbody tr th:only-of-type {\n",
       "        vertical-align: middle;\n",
       "    }\n",
       "\n",
       "    .dataframe tbody tr th {\n",
       "        vertical-align: top;\n",
       "    }\n",
       "\n",
       "    .dataframe thead th {\n",
       "        text-align: right;\n",
       "    }\n",
       "</style>\n",
       "<table border=\"1\" class=\"dataframe\">\n",
       "  <thead>\n",
       "    <tr style=\"text-align: right;\">\n",
       "      <th></th>\n",
       "      <th>RPT_DT</th>\n",
       "      <th>RPT_DT1</th>\n",
       "      <th>Core_order_count</th>\n",
       "      <th>Core_Item_Price</th>\n",
       "      <th>DM_Order_Count</th>\n",
       "      <th>DM_Item_Price</th>\n",
       "      <th>Year_Month</th>\n",
       "    </tr>\n",
       "  </thead>\n",
       "  <tbody>\n",
       "    <tr>\n",
       "      <th>0</th>\n",
       "      <td>2020-08-01</td>\n",
       "      <td>2020-08-01</td>\n",
       "      <td>502</td>\n",
       "      <td>551.616303</td>\n",
       "      <td>1023</td>\n",
       "      <td>682.959182</td>\n",
       "      <td>2020-08</td>\n",
       "    </tr>\n",
       "    <tr>\n",
       "      <th>1</th>\n",
       "      <td>2020-08-02</td>\n",
       "      <td>2020-08-02</td>\n",
       "      <td>503</td>\n",
       "      <td>555.042494</td>\n",
       "      <td>1024</td>\n",
       "      <td>683.959182</td>\n",
       "      <td>2020-08</td>\n",
       "    </tr>\n",
       "  </tbody>\n",
       "</table>\n",
       "</div>"
      ],
      "text/plain": [
       "       RPT_DT     RPT_DT1  Core_order_count  Core_Item_Price  DM_Order_Count  \\\n",
       "0  2020-08-01  2020-08-01               502       551.616303            1023   \n",
       "1  2020-08-02  2020-08-02               503       555.042494            1024   \n",
       "\n",
       "   DM_Item_Price Year_Month  \n",
       "0     682.959182    2020-08  \n",
       "1     683.959182    2020-08  "
      ]
     },
     "execution_count": 4,
     "metadata": {},
     "output_type": "execute_result"
    }
   ],
   "source": [
    "df.head(2)"
   ]
  },
  {
   "cell_type": "code",
   "execution_count": 27,
   "metadata": {},
   "outputs": [
    {
     "data": {
      "text/plain": [
       "RPT_DT               object\n",
       "RPT_DT1              object\n",
       "Core_order_count      int64\n",
       "Core_Item_Price     float64\n",
       "DM_Order_Count        int64\n",
       "DM_Item_Price       float64\n",
       "Year_Month           object\n",
       "dtype: object"
      ]
     },
     "execution_count": 27,
     "metadata": {},
     "output_type": "execute_result"
    }
   ],
   "source": [
    "df.dtypes"
   ]
  },
  {
   "cell_type": "code",
   "execution_count": 28,
   "metadata": {},
   "outputs": [
    {
     "data": {
      "text/plain": [
       "'2021-01'"
      ]
     },
     "execution_count": 28,
     "metadata": {},
     "output_type": "execute_result"
    }
   ],
   "source": [
    "Previous_Date = datetime.datetime.today() - datetime.timedelta(days=1)\n",
    "ym = Previous_Date.strftime(\"%Y-%m\")\n",
    "ym"
   ]
  },
  {
   "cell_type": "code",
   "execution_count": 29,
   "metadata": {},
   "outputs": [],
   "source": [
    "df_new = df.loc[df['RPT_DT'].str.contains(ym)]"
   ]
  },
  {
   "cell_type": "code",
   "execution_count": 8,
   "metadata": {},
   "outputs": [
    {
     "data": {
      "text/html": [
       "<div>\n",
       "<style scoped>\n",
       "    .dataframe tbody tr th:only-of-type {\n",
       "        vertical-align: middle;\n",
       "    }\n",
       "\n",
       "    .dataframe tbody tr th {\n",
       "        vertical-align: top;\n",
       "    }\n",
       "\n",
       "    .dataframe thead th {\n",
       "        text-align: right;\n",
       "    }\n",
       "</style>\n",
       "<table border=\"1\" class=\"dataframe\">\n",
       "  <thead>\n",
       "    <tr style=\"text-align: right;\">\n",
       "      <th></th>\n",
       "      <th>RPT_DT</th>\n",
       "      <th>RPT_DT1</th>\n",
       "      <th>Core_order_count</th>\n",
       "      <th>Core_Item_Price</th>\n",
       "      <th>DM_Order_Count</th>\n",
       "      <th>DM_Item_Price</th>\n",
       "      <th>Year_Month</th>\n",
       "    </tr>\n",
       "  </thead>\n",
       "  <tbody>\n",
       "    <tr>\n",
       "      <th>153</th>\n",
       "      <td>2021-01-01</td>\n",
       "      <td>2021-01-01</td>\n",
       "      <td>759</td>\n",
       "      <td>711.221093</td>\n",
       "      <td>689</td>\n",
       "      <td>640.697271</td>\n",
       "      <td>2021-01</td>\n",
       "    </tr>\n",
       "    <tr>\n",
       "      <th>154</th>\n",
       "      <td>2021-01-02</td>\n",
       "      <td>2021-01-02</td>\n",
       "      <td>760</td>\n",
       "      <td>712.221093</td>\n",
       "      <td>690</td>\n",
       "      <td>644.123463</td>\n",
       "      <td>2021-01</td>\n",
       "    </tr>\n",
       "    <tr>\n",
       "      <th>155</th>\n",
       "      <td>2021-01-03</td>\n",
       "      <td>2021-01-03</td>\n",
       "      <td>761</td>\n",
       "      <td>713.221093</td>\n",
       "      <td>691</td>\n",
       "      <td>647.549654</td>\n",
       "      <td>2021-01</td>\n",
       "    </tr>\n",
       "    <tr>\n",
       "      <th>156</th>\n",
       "      <td>2021-01-04</td>\n",
       "      <td>2021-01-04</td>\n",
       "      <td>762</td>\n",
       "      <td>714.221093</td>\n",
       "      <td>692</td>\n",
       "      <td>650.975845</td>\n",
       "      <td>2021-01</td>\n",
       "    </tr>\n",
       "    <tr>\n",
       "      <th>157</th>\n",
       "      <td>2021-01-05</td>\n",
       "      <td>2021-01-05</td>\n",
       "      <td>763</td>\n",
       "      <td>715.221093</td>\n",
       "      <td>693</td>\n",
       "      <td>654.402036</td>\n",
       "      <td>2021-01</td>\n",
       "    </tr>\n",
       "    <tr>\n",
       "      <th>158</th>\n",
       "      <td>2021-01-06</td>\n",
       "      <td>2021-01-06</td>\n",
       "      <td>764</td>\n",
       "      <td>716.221093</td>\n",
       "      <td>694</td>\n",
       "      <td>657.828227</td>\n",
       "      <td>2021-01</td>\n",
       "    </tr>\n",
       "    <tr>\n",
       "      <th>159</th>\n",
       "      <td>2021-01-07</td>\n",
       "      <td>2021-01-07</td>\n",
       "      <td>764</td>\n",
       "      <td>717.221093</td>\n",
       "      <td>695</td>\n",
       "      <td>661.254418</td>\n",
       "      <td>2021-01</td>\n",
       "    </tr>\n",
       "    <tr>\n",
       "      <th>160</th>\n",
       "      <td>2021-01-08</td>\n",
       "      <td>2021-01-08</td>\n",
       "      <td>764</td>\n",
       "      <td>718.221093</td>\n",
       "      <td>696</td>\n",
       "      <td>664.680609</td>\n",
       "      <td>2021-01</td>\n",
       "    </tr>\n",
       "  </tbody>\n",
       "</table>\n",
       "</div>"
      ],
      "text/plain": [
       "         RPT_DT     RPT_DT1  Core_order_count  Core_Item_Price  \\\n",
       "153  2021-01-01  2021-01-01               759       711.221093   \n",
       "154  2021-01-02  2021-01-02               760       712.221093   \n",
       "155  2021-01-03  2021-01-03               761       713.221093   \n",
       "156  2021-01-04  2021-01-04               762       714.221093   \n",
       "157  2021-01-05  2021-01-05               763       715.221093   \n",
       "158  2021-01-06  2021-01-06               764       716.221093   \n",
       "159  2021-01-07  2021-01-07               764       717.221093   \n",
       "160  2021-01-08  2021-01-08               764       718.221093   \n",
       "\n",
       "     DM_Order_Count  DM_Item_Price Year_Month  \n",
       "153             689     640.697271    2021-01  \n",
       "154             690     644.123463    2021-01  \n",
       "155             691     647.549654    2021-01  \n",
       "156             692     650.975845    2021-01  \n",
       "157             693     654.402036    2021-01  \n",
       "158             694     657.828227    2021-01  \n",
       "159             695     661.254418    2021-01  \n",
       "160             696     664.680609    2021-01  "
      ]
     },
     "execution_count": 8,
     "metadata": {},
     "output_type": "execute_result"
    }
   ],
   "source": [
    "df_new"
   ]
  },
  {
   "cell_type": "code",
   "execution_count": 30,
   "metadata": {},
   "outputs": [
    {
     "data": {
      "text/html": [
       "<div>\n",
       "<style scoped>\n",
       "    .dataframe tbody tr th:only-of-type {\n",
       "        vertical-align: middle;\n",
       "    }\n",
       "\n",
       "    .dataframe tbody tr th {\n",
       "        vertical-align: top;\n",
       "    }\n",
       "\n",
       "    .dataframe thead th {\n",
       "        text-align: right;\n",
       "    }\n",
       "</style>\n",
       "<table border=\"1\" class=\"dataframe\">\n",
       "  <thead>\n",
       "    <tr style=\"text-align: right;\">\n",
       "      <th></th>\n",
       "      <th>Year_Month</th>\n",
       "      <th>Core_order_count</th>\n",
       "      <th>Core_Item_Price</th>\n",
       "      <th>DM_Order_Count</th>\n",
       "      <th>DM_Item_Price</th>\n",
       "    </tr>\n",
       "  </thead>\n",
       "  <tbody>\n",
       "    <tr>\n",
       "      <th>0</th>\n",
       "      <td>2021-01</td>\n",
       "      <td>6097</td>\n",
       "      <td>5717.768746</td>\n",
       "      <td>5540</td>\n",
       "      <td>5221.511523</td>\n",
       "    </tr>\n",
       "  </tbody>\n",
       "</table>\n",
       "</div>"
      ],
      "text/plain": [
       "  Year_Month  Core_order_count  Core_Item_Price  DM_Order_Count  DM_Item_Price\n",
       "0    2021-01              6097      5717.768746            5540    5221.511523"
      ]
     },
     "execution_count": 30,
     "metadata": {},
     "output_type": "execute_result"
    }
   ],
   "source": [
    "upd = df_new.groupby('Year_Month', as_index=False).agg({\n",
    "    \"Core_order_count\":\"sum\",\n",
    "    \"Core_Item_Price\": \"sum\",\n",
    "    \"DM_Order_Count\":\"sum\",\n",
    "    \"DM_Item_Price\":\"sum\"\n",
    "})\n",
    "upd"
   ]
  },
  {
   "cell_type": "code",
   "execution_count": 264,
   "metadata": {},
   "outputs": [
    {
     "name": "stdout",
     "output_type": "stream",
     "text": [
      "6097\n",
      "5717.768746399999\n",
      "5540\n",
      "5221.5115227\n"
     ]
    }
   ],
   "source": [
    "print(df_new['Core_order_count'].sum())\n",
    "print(df_new['Core_Item_Price'].sum())\n",
    "print(df_new['DM_Order_Count'].sum())\n",
    "print(df_new['DM_Item_Price'].sum())"
   ]
  },
  {
   "cell_type": "code",
   "execution_count": 31,
   "metadata": {},
   "outputs": [
    {
     "data": {
      "text/html": [
       "<div>\n",
       "<style scoped>\n",
       "    .dataframe tbody tr th:only-of-type {\n",
       "        vertical-align: middle;\n",
       "    }\n",
       "\n",
       "    .dataframe tbody tr th {\n",
       "        vertical-align: top;\n",
       "    }\n",
       "\n",
       "    .dataframe thead th {\n",
       "        text-align: right;\n",
       "    }\n",
       "</style>\n",
       "<table border=\"1\" class=\"dataframe\">\n",
       "  <thead>\n",
       "    <tr style=\"text-align: right;\">\n",
       "      <th></th>\n",
       "      <th>Year_Month</th>\n",
       "      <th>Core_order_count</th>\n",
       "      <th>Core_Item_Price</th>\n",
       "      <th>DM_Order_Count</th>\n",
       "      <th>DM_Item_Price</th>\n",
       "      <th>cnt_diff</th>\n",
       "    </tr>\n",
       "  </thead>\n",
       "  <tbody>\n",
       "    <tr>\n",
       "      <th>0</th>\n",
       "      <td>2021-01</td>\n",
       "      <td>6097</td>\n",
       "      <td>5717.768746</td>\n",
       "      <td>5540</td>\n",
       "      <td>5221.511523</td>\n",
       "      <td>557</td>\n",
       "    </tr>\n",
       "  </tbody>\n",
       "</table>\n",
       "</div>"
      ],
      "text/plain": [
       "  Year_Month  Core_order_count  Core_Item_Price  DM_Order_Count  \\\n",
       "0    2021-01              6097      5717.768746            5540   \n",
       "\n",
       "   DM_Item_Price  cnt_diff  \n",
       "0    5221.511523       557  "
      ]
     },
     "execution_count": 31,
     "metadata": {},
     "output_type": "execute_result"
    }
   ],
   "source": [
    "upd['cnt_diff'] = upd['Core_order_count'] - upd['DM_Order_Count']\n",
    "upd"
   ]
  },
  {
   "cell_type": "code",
   "execution_count": 32,
   "metadata": {},
   "outputs": [
    {
     "data": {
      "text/html": [
       "<div>\n",
       "<style scoped>\n",
       "    .dataframe tbody tr th:only-of-type {\n",
       "        vertical-align: middle;\n",
       "    }\n",
       "\n",
       "    .dataframe tbody tr th {\n",
       "        vertical-align: top;\n",
       "    }\n",
       "\n",
       "    .dataframe thead th {\n",
       "        text-align: right;\n",
       "    }\n",
       "</style>\n",
       "<table border=\"1\" class=\"dataframe\">\n",
       "  <thead>\n",
       "    <tr style=\"text-align: right;\">\n",
       "      <th></th>\n",
       "      <th>Year_Month</th>\n",
       "      <th>Core_order_count</th>\n",
       "      <th>Core_Item_Price</th>\n",
       "      <th>DM_Order_Count</th>\n",
       "      <th>DM_Item_Price</th>\n",
       "      <th>cnt_diff</th>\n",
       "    </tr>\n",
       "  </thead>\n",
       "  <tbody>\n",
       "    <tr>\n",
       "      <th>0</th>\n",
       "      <td>2021-01</td>\n",
       "      <td>6097</td>\n",
       "      <td>5717.768746</td>\n",
       "      <td>5540</td>\n",
       "      <td>5221.511523</td>\n",
       "      <td>557</td>\n",
       "    </tr>\n",
       "  </tbody>\n",
       "</table>\n",
       "</div>"
      ],
      "text/plain": [
       "  Year_Month  Core_order_count  Core_Item_Price  DM_Order_Count  \\\n",
       "0    2021-01              6097      5717.768746            5540   \n",
       "\n",
       "   DM_Item_Price  cnt_diff  \n",
       "0    5221.511523       557  "
      ]
     },
     "execution_count": 32,
     "metadata": {},
     "output_type": "execute_result"
    }
   ],
   "source": [
    "upd.head(2)"
   ]
  },
  {
   "cell_type": "code",
   "execution_count": 39,
   "metadata": {},
   "outputs": [
    {
     "data": {
      "text/plain": [
       "Year_Month           object\n",
       "Core_order_count      int64\n",
       "Core_Item_Price     float64\n",
       "DM_Order_Count        int64\n",
       "DM_Item_Price       float64\n",
       "cnt_diff              int64\n",
       "dtype: object"
      ]
     },
     "execution_count": 39,
     "metadata": {},
     "output_type": "execute_result"
    }
   ],
   "source": [
    "upd.dtypes"
   ]
  },
  {
   "cell_type": "code",
   "execution_count": 49,
   "metadata": {},
   "outputs": [
    {
     "data": {
      "text/plain": [
       "[557]"
      ]
     },
     "execution_count": 49,
     "metadata": {},
     "output_type": "execute_result"
    }
   ],
   "source": [
    "upd['cnt_diff'].tolist()"
   ]
  },
  {
   "cell_type": "code",
   "execution_count": 57,
   "metadata": {},
   "outputs": [
    {
     "name": "stdout",
     "output_type": "stream",
     "text": [
      "Number is greater than 500\n"
     ]
    }
   ],
   "source": [
    "for i in upd['cnt_diff']:\n",
    "    if i > 500:\n",
    "        print(\"Number is greater than 500\")\n",
    "    break\n",
    "\n",
    "    "
   ]
  },
  {
   "cell_type": "code",
   "execution_count": 59,
   "metadata": {},
   "outputs": [
    {
     "ename": "ValueError",
     "evalue": "The truth value of a Series is ambiguous. Use a.empty, a.bool(), a.item(), a.any() or a.all().",
     "output_type": "error",
     "traceback": [
      "\u001b[1;31m---------------------------------------------------------------------------\u001b[0m",
      "\u001b[1;31mValueError\u001b[0m                                Traceback (most recent call last)",
      "\u001b[1;32m<ipython-input-59-2e0eeeeeff96>\u001b[0m in \u001b[0;36m<module>\u001b[1;34m\u001b[0m\n\u001b[1;32m----> 1\u001b[1;33m \u001b[1;32mif\u001b[0m \u001b[0mabs\u001b[0m\u001b[1;33m(\u001b[0m\u001b[0mupd\u001b[0m\u001b[1;33m[\u001b[0m\u001b[1;34m'cnt_diff'\u001b[0m\u001b[1;33m]\u001b[0m\u001b[1;33m>\u001b[0m\u001b[1;36m500\u001b[0m\u001b[1;33m)\u001b[0m\u001b[1;33m:\u001b[0m\u001b[1;33m\u001b[0m\u001b[1;33m\u001b[0m\u001b[0m\n\u001b[0m\u001b[0;32m      2\u001b[0m     \u001b[0mprint\u001b[0m\u001b[1;33m(\u001b[0m\u001b[1;36m500\u001b[0m\u001b[1;33m)\u001b[0m\u001b[1;33m\u001b[0m\u001b[1;33m\u001b[0m\u001b[0m\n\u001b[0;32m      3\u001b[0m \u001b[1;32melse\u001b[0m\u001b[1;33m:\u001b[0m\u001b[1;33m\u001b[0m\u001b[1;33m\u001b[0m\u001b[0m\n\u001b[0;32m      4\u001b[0m     \u001b[0mprint\u001b[0m\u001b[1;33m(\u001b[0m\u001b[1;36m600\u001b[0m\u001b[1;33m)\u001b[0m\u001b[1;33m\u001b[0m\u001b[1;33m\u001b[0m\u001b[0m\n",
      "\u001b[1;32mC:\\Anaconda3\\lib\\site-packages\\pandas\\core\\generic.py\u001b[0m in \u001b[0;36m__nonzero__\u001b[1;34m(self)\u001b[0m\n\u001b[0;32m   1477\u001b[0m     \u001b[1;32mdef\u001b[0m \u001b[0m__nonzero__\u001b[0m\u001b[1;33m(\u001b[0m\u001b[0mself\u001b[0m\u001b[1;33m)\u001b[0m\u001b[1;33m:\u001b[0m\u001b[1;33m\u001b[0m\u001b[1;33m\u001b[0m\u001b[0m\n\u001b[0;32m   1478\u001b[0m         raise ValueError(\n\u001b[1;32m-> 1479\u001b[1;33m             \u001b[1;34mf\"The truth value of a {type(self).__name__} is ambiguous. \"\u001b[0m\u001b[1;33m\u001b[0m\u001b[1;33m\u001b[0m\u001b[0m\n\u001b[0m\u001b[0;32m   1480\u001b[0m             \u001b[1;34m\"Use a.empty, a.bool(), a.item(), a.any() or a.all().\"\u001b[0m\u001b[1;33m\u001b[0m\u001b[1;33m\u001b[0m\u001b[0m\n\u001b[0;32m   1481\u001b[0m         )\n",
      "\u001b[1;31mValueError\u001b[0m: The truth value of a Series is ambiguous. Use a.empty, a.bool(), a.item(), a.any() or a.all()."
     ]
    }
   ],
   "source": [
    "if abs(upd['cnt_diff']>500):\n",
    "    print(500)\n",
    "else:\n",
    "    print(600)"
   ]
  },
  {
   "cell_type": "code",
   "execution_count": null,
   "metadata": {},
   "outputs": [],
   "source": []
  }
 ],
 "metadata": {
  "kernelspec": {
   "display_name": "Python 3",
   "language": "python",
   "name": "python3"
  },
  "language_info": {
   "codemirror_mode": {
    "name": "ipython",
    "version": 3
   },
   "file_extension": ".py",
   "mimetype": "text/x-python",
   "name": "python",
   "nbconvert_exporter": "python",
   "pygments_lexer": "ipython3",
   "version": "3.7.6"
  }
 },
 "nbformat": 4,
 "nbformat_minor": 4
}
