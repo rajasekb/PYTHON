{
 "cells": [
  {
   "cell_type": "markdown",
   "metadata": {},
   "source": [
    "# code basics\n",
    "## For loop  "
   ]
  },
  {
   "cell_type": "code",
   "execution_count": 7,
   "metadata": {},
   "outputs": [
    {
     "name": "stdout",
     "output_type": "stream",
     "text": [
      "otal amount spend is :16300\n"
     ]
    }
   ],
   "source": [
    "exp=[2200,2500,3100,2750,2900,2850]\n",
    "total=exp[0]+exp[1]+exp[2]+exp[3]+exp[4]+exp[5]\n",
    "print(\"Total amount spend is :\"+ str(total))"
   ]
  },
  {
   "cell_type": "code",
   "execution_count": 10,
   "metadata": {},
   "outputs": [
    {
     "name": "stdout",
     "output_type": "stream",
     "text": [
      "16300\n"
     ]
    }
   ],
   "source": [
    "a=0\n",
    "for i in exp:\n",
    "    a=a+i\n",
    "print(a)\n"
   ]
  },
  {
   "cell_type": "markdown",
   "metadata": {},
   "source": [
    "## Range function"
   ]
  },
  {
   "cell_type": "code",
   "execution_count": 21,
   "metadata": {},
   "outputs": [
    {
     "name": "stdout",
     "output_type": "stream",
     "text": [
      "1\n",
      "Square of num:1\n",
      "2\n",
      "Square of num:4\n",
      "3\n",
      "Square of num:9\n",
      "4\n",
      "Square of num:16\n",
      "5\n",
      "Square of num:25\n"
     ]
    }
   ],
   "source": [
    "for i in range(1,6):\n",
    "    print(i)\n",
    "    print(\"Square of num:\" + str(i*i))"
   ]
  },
  {
   "cell_type": "code",
   "execution_count": 27,
   "metadata": {},
   "outputs": [
    {
     "name": "stdout",
     "output_type": "stream",
     "text": [
      "16300\n"
     ]
    }
   ],
   "source": [
    "c=0\n",
    "exp=[2200,2500,3100,2750,2900,2850]\n",
    "for i in range(len(exp)):\n",
    "        c=c+exp[i]\n",
    "print(c)\n"
   ]
  },
  {
   "cell_type": "code",
   "execution_count": 40,
   "metadata": {},
   "outputs": [
    {
     "name": "stdout",
     "output_type": "stream",
     "text": [
      "Month is Jan and Expenses are: 2200\n",
      "Month is Feb and Expenses are: 2500\n",
      "Month is Mar and Expenses are: 3100\n",
      "Month is Apr and Expenses are: 2750\n",
      "Month is May and Expenses are: 2900\n",
      "Month is Jun and Expenses are: 2850\n",
      "Total expenses are: 16300\n"
     ]
    }
   ],
   "source": [
    "a=0\n",
    "c=0\n",
    "exp=[2200,2500,3100,2750,2900,2850]\n",
    "mon=['Jan','Feb','Mar','Apr','May','Jun']\n",
    "for i in range(len(exp)):\n",
    "    print(\"Month is\" ,mon[c],\"and Expenses are:\",exp[i])\n",
    "    a=a+exp[i]\n",
    "    c=c+1\n",
    "print(\"Total expenses are:\",str(a))"
   ]
  },
  {
   "cell_type": "code",
   "execution_count": 49,
   "metadata": {},
   "outputs": [
    {
     "name": "stdout",
     "output_type": "stream",
     "text": [
      "Keys not found\n",
      "Keys not found\n",
      "Found the keys in chair\n"
     ]
    }
   ],
   "source": [
    "keys=[\"chair\"]\n",
    "key_loc=[\"garage\",\"living room\",\"chair\",\"table\"]\n",
    "for i in range(len(key_loc)):\n",
    "    if key_loc[i] == keys[0]:\n",
    "        print(\"Found the keys in\",key_loc[i])\n",
    "        break\n",
    "    else:\n",
    "        print(\"Keys not found\")"
   ]
  },
  {
   "cell_type": "code",
   "execution_count": 50,
   "metadata": {},
   "outputs": [
    {
     "name": "stdout",
     "output_type": "stream",
     "text": [
      "Keys not found\n",
      "Keys not found\n",
      "Found the keys in chair\n"
     ]
    }
   ],
   "source": [
    "keys=\"chair\"\n",
    "key_loc=[\"garage\",\"living room\",\"chair\",\"table\"]\n",
    "for i in range(len(key_loc)):\n",
    "    if key_loc[i] == keys:\n",
    "        print(\"Found the keys in\",key_loc[i])\n",
    "        break\n",
    "    else:\n",
    "        print(\"Keys not found\")"
   ]
  },
  {
   "cell_type": "code",
   "execution_count": 56,
   "metadata": {},
   "outputs": [
    {
     "name": "stdout",
     "output_type": "stream",
     "text": [
      "1\n",
      "9\n",
      "25\n"
     ]
    }
   ],
   "source": [
    "for i in range(1,6):\n",
    "    if i %2 ==0:\n",
    "        continue\n",
    "    print(i*i)"
   ]
  },
  {
   "cell_type": "markdown",
   "metadata": {},
   "source": [
    "## While"
   ]
  },
  {
   "cell_type": "code",
   "execution_count": 1,
   "metadata": {},
   "outputs": [
    {
     "name": "stdout",
     "output_type": "stream",
     "text": [
      "1\n",
      "2\n",
      "3\n",
      "4\n",
      "5\n"
     ]
    }
   ],
   "source": [
    "i=1\n",
    "while i<=5:\n",
    "    print(i)\n",
    "    i=i+1"
   ]
  },
  {
   "cell_type": "code",
   "execution_count": null,
   "metadata": {},
   "outputs": [],
   "source": []
  }
 ],
 "metadata": {
  "kernelspec": {
   "display_name": "Python 3",
   "language": "python",
   "name": "python3"
  },
  "language_info": {
   "codemirror_mode": {
    "name": "ipython",
    "version": 3
   },
   "file_extension": ".py",
   "mimetype": "text/x-python",
   "name": "python",
   "nbconvert_exporter": "python",
   "pygments_lexer": "ipython3",
   "version": "3.7.6"
  }
 },
 "nbformat": 4,
 "nbformat_minor": 4
}
