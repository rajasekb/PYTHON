{
 "cells": [
  {
   "cell_type": "code",
   "execution_count": 1,
   "metadata": {},
   "outputs": [
    {
     "data": {
      "text/plain": [
       "4"
      ]
     },
     "execution_count": 1,
     "metadata": {},
     "output_type": "execute_result"
    }
   ],
   "source": [
    "def squ(y):\n",
    "    return y*y\n",
    "squ(2)"
   ]
  },
  {
   "cell_type": "markdown",
   "metadata": {},
   "source": [
    "# Anonomyus or Lambda function"
   ]
  },
  {
   "cell_type": "code",
   "execution_count": 5,
   "metadata": {},
   "outputs": [],
   "source": [
    "s=lambda x:x*x*x"
   ]
  },
  {
   "cell_type": "code",
   "execution_count": 6,
   "metadata": {},
   "outputs": [
    {
     "data": {
      "text/plain": [
       "8"
      ]
     },
     "execution_count": 6,
     "metadata": {},
     "output_type": "execute_result"
    }
   ],
   "source": [
    "s(2)"
   ]
  },
  {
   "cell_type": "code",
   "execution_count": null,
   "metadata": {
    "scrolled": false
   },
   "outputs": [],
   "source": [
    ".apply(lambda x : x*x)  ----> This is used in with dataframe operations"
   ]
  },
  {
   "cell_type": "markdown",
   "metadata": {},
   "source": [
    "#### Map function"
   ]
  },
  {
   "cell_type": "code",
   "execution_count": 8,
   "metadata": {},
   "outputs": [
    {
     "ename": "TypeError",
     "evalue": "map() must have at least two arguments.",
     "output_type": "error",
     "traceback": [
      "\u001b[1;31m---------------------------------------------------------------------------\u001b[0m",
      "\u001b[1;31mTypeError\u001b[0m                                 Traceback (most recent call last)",
      "\u001b[1;32m<ipython-input-8-e56740a6557e>\u001b[0m in \u001b[0;36m<module>\u001b[1;34m\u001b[0m\n\u001b[1;32m----> 1\u001b[1;33m \u001b[0mmap\u001b[0m\u001b[1;33m(\u001b[0m\u001b[1;33m)\u001b[0m\u001b[1;33m\u001b[0m\u001b[1;33m\u001b[0m\u001b[0m\n\u001b[0m",
      "\u001b[1;31mTypeError\u001b[0m: map() must have at least two arguments."
     ]
    }
   ],
   "source": [
    "map()"
   ]
  },
  {
   "cell_type": "code",
   "execution_count": 9,
   "metadata": {},
   "outputs": [],
   "source": [
    "myf = ['Hero','Dinakar','Srinu']"
   ]
  },
  {
   "cell_type": "code",
   "execution_count": 18,
   "metadata": {},
   "outputs": [
    {
     "name": "stdout",
     "output_type": "stream",
     "text": [
      "['HERO', 'DINAKAR', 'SRINU']\n"
     ]
    }
   ],
   "source": [
    "emylist = []\n",
    "for i in myf:\n",
    "    uppr = i.upper()\n",
    "    emylist.append(uppr)\n",
    "\n",
    "print(emylist)\n",
    "    "
   ]
  },
  {
   "cell_type": "code",
   "execution_count": 21,
   "metadata": {},
   "outputs": [
    {
     "data": {
      "text/plain": [
       "['HERO', 'DINAKAR', 'SRINU']"
      ]
     },
     "execution_count": 21,
     "metadata": {},
     "output_type": "execute_result"
    }
   ],
   "source": [
    "list(map(str.upper,myf))"
   ]
  },
  {
   "cell_type": "code",
   "execution_count": 22,
   "metadata": {},
   "outputs": [],
   "source": [
    "## Assignment\n",
    "float_nums = [5.33,5.66,23.55]\n",
    "list(map(round,float_nums))"
   ]
  },
  {
   "cell_type": "code",
   "execution_count": 25,
   "metadata": {},
   "outputs": [
    {
     "data": {
      "text/plain": [
       "[5, 6, 24]"
      ]
     },
     "execution_count": 25,
     "metadata": {},
     "output_type": "execute_result"
    }
   ],
   "source": [
    "list(map(round,float_nums))"
   ]
  },
  {
   "cell_type": "code",
   "execution_count": 36,
   "metadata": {},
   "outputs": [
    {
     "name": "stdout",
     "output_type": "stream",
     "text": [
      "[('Abhijith', 1), ('Senthil', 2), ('Hari', 3), ('Laxmi', 4)]\n"
     ]
    }
   ],
   "source": [
    "ls1=['Abhijith','Senthil','Hari','Laxmi']\n",
    "ls2=list(range(1,5))\n",
    "ls3=list()\n",
    "for i,j in zip(ls1,ls2):\n",
    "    ls3.append((i,j)) \n",
    "print(ls3)\n"
   ]
  },
  {
   "cell_type": "code",
   "execution_count": 31,
   "metadata": {},
   "outputs": [
    {
     "data": {
      "text/plain": [
       "[('Abhijith', 1), ('Senthil', 2), ('Hari', 3), ('Laxmi', 4)]"
      ]
     },
     "execution_count": 31,
     "metadata": {},
     "output_type": "execute_result"
    }
   ],
   "source": [
    "list(map(lambda x: (x),zip(ls1,ls2)))\n"
   ]
  },
  {
   "cell_type": "code",
   "execution_count": 34,
   "metadata": {},
   "outputs": [
    {
     "data": {
      "text/plain": [
       "4"
      ]
     },
     "execution_count": 34,
     "metadata": {},
     "output_type": "execute_result"
    }
   ],
   "source": [
    "len(ls1)"
   ]
  },
  {
   "cell_type": "code",
   "execution_count": 38,
   "metadata": {},
   "outputs": [
    {
     "data": {
      "text/plain": [
       "[('Abhijith', 1), ('Senthil', 2), ('Hari', 3), ('Laxmi', 4)]"
      ]
     },
     "execution_count": 38,
     "metadata": {},
     "output_type": "execute_result"
    }
   ],
   "source": [
    "list(map(lambda x:x,zip(ls1,ls2)))"
   ]
  },
  {
   "cell_type": "code",
   "execution_count": 39,
   "metadata": {},
   "outputs": [
    {
     "data": {
      "text/plain": [
       "[('Abhijith', 1), ('Senthil', 2), ('Hari', 3), ('Laxmi', 4)]"
      ]
     },
     "execution_count": 39,
     "metadata": {},
     "output_type": "execute_result"
    }
   ],
   "source": [
    "res = list(map(lambda a,b:(a,b),ls1,ls2))\n",
    "res\n"
   ]
  },
  {
   "cell_type": "markdown",
   "metadata": {},
   "source": [
    "#####  Filter function"
   ]
  },
  {
   "cell_type": "code",
   "execution_count": 53,
   "metadata": {},
   "outputs": [
    {
     "data": {
      "text/plain": [
       "[23000, 4900]"
      ]
     },
     "execution_count": 53,
     "metadata": {},
     "output_type": "execute_result"
    }
   ],
   "source": [
    "salary = [50000,40000,23000,4900]\n",
    "lst=[]\n",
    "for i in salary:\n",
    "    if(i < 35000):\n",
    "        lst.append(i)\n",
    "        \n",
    "lst"
   ]
  },
  {
   "cell_type": "code",
   "execution_count": 54,
   "metadata": {},
   "outputs": [],
   "source": [
    "def low_sal(salaries):\n",
    "    return salaries < 2500"
   ]
  },
  {
   "cell_type": "code",
   "execution_count": 55,
   "metadata": {},
   "outputs": [
    {
     "data": {
      "text/plain": [
       "[]"
      ]
     },
     "execution_count": 55,
     "metadata": {},
     "output_type": "execute_result"
    }
   ],
   "source": [
    "list(filter(low_sal,salary))"
   ]
  },
  {
   "cell_type": "markdown",
   "metadata": {},
   "source": [
    "##### List comprehresion"
   ]
  },
  {
   "cell_type": "code",
   "execution_count": 57,
   "metadata": {},
   "outputs": [],
   "source": [
    "words = ['Pythn','suene','kljd','Raj']\n",
    "vow = ['a','e','i','o','u']"
   ]
  },
  {
   "cell_type": "code",
   "execution_count": 61,
   "metadata": {},
   "outputs": [
    {
     "ename": "ValueError",
     "evalue": "too many values to unpack (expected 2)",
     "output_type": "error",
     "traceback": [
      "\u001b[1;31m---------------------------------------------------------------------------\u001b[0m",
      "\u001b[1;31mValueError\u001b[0m                                Traceback (most recent call last)",
      "\u001b[1;32m<ipython-input-61-099a67e2dcd2>\u001b[0m in \u001b[0;36m<module>\u001b[1;34m\u001b[0m\n\u001b[1;32m----> 1\u001b[1;33m \u001b[1;32mfor\u001b[0m \u001b[0mi\u001b[0m\u001b[1;33m,\u001b[0m\u001b[0mj\u001b[0m \u001b[1;32min\u001b[0m \u001b[0mwords\u001b[0m\u001b[1;33m,\u001b[0m\u001b[0mvow\u001b[0m\u001b[1;33m:\u001b[0m\u001b[1;33m\u001b[0m\u001b[1;33m\u001b[0m\u001b[0m\n\u001b[0m\u001b[0;32m      2\u001b[0m     \u001b[1;32mif\u001b[0m \u001b[0mi\u001b[0m \u001b[1;32min\u001b[0m \u001b[0mj\u001b[0m\u001b[1;33m:\u001b[0m\u001b[1;33m\u001b[0m\u001b[1;33m\u001b[0m\u001b[0m\n\u001b[0;32m      3\u001b[0m         \u001b[0mprint\u001b[0m\u001b[1;33m(\u001b[0m\u001b[0mi\u001b[0m\u001b[1;33m)\u001b[0m\u001b[1;33m\u001b[0m\u001b[1;33m\u001b[0m\u001b[0m\n",
      "\u001b[1;31mValueError\u001b[0m: too many values to unpack (expected 2)"
     ]
    }
   ],
   "source": [
    "for i,j in words,vow:\n",
    "    if i in j:\n",
    "        print(i)"
   ]
  },
  {
   "cell_type": "code",
   "execution_count": 62,
   "metadata": {},
   "outputs": [
    {
     "name": "stdout",
     "output_type": "stream",
     "text": [
      "Inceptez\n",
      "Batch15\n",
      "class\n"
     ]
    }
   ],
   "source": [
    "words=['Inceptez','Batch15','Pythn','class']\n",
    "Vowels=['a','e','o','u']\n",
    "\n",
    "for i in words:\n",
    "    j=i.lower()\n",
    "    for k in Vowels:\n",
    "        if k in j:\n",
    "            print(i)\n"
   ]
  },
  {
   "cell_type": "code",
   "execution_count": 64,
   "metadata": {},
   "outputs": [],
   "source": [
    "hal = [i for i in words for k in i if k in Vowels]"
   ]
  },
  {
   "cell_type": "code",
   "execution_count": 65,
   "metadata": {},
   "outputs": [
    {
     "data": {
      "text/plain": [
       "['Inceptez', 'Inceptez', 'Batch15', 'class']"
      ]
     },
     "execution_count": 65,
     "metadata": {},
     "output_type": "execute_result"
    }
   ],
   "source": [
    "hal"
   ]
  },
  {
   "cell_type": "markdown",
   "metadata": {},
   "source": [
    "##### reduce"
   ]
  },
  {
   "cell_type": "code",
   "execution_count": 67,
   "metadata": {},
   "outputs": [],
   "source": [
    "import functools"
   ]
  },
  {
   "cell_type": "code",
   "execution_count": 69,
   "metadata": {},
   "outputs": [
    {
     "data": {
      "text/html": [
       "<div>\n",
       "<style scoped>\n",
       "    .dataframe tbody tr th:only-of-type {\n",
       "        vertical-align: middle;\n",
       "    }\n",
       "\n",
       "    .dataframe tbody tr th {\n",
       "        vertical-align: top;\n",
       "    }\n",
       "\n",
       "    .dataframe thead th {\n",
       "        text-align: right;\n",
       "    }\n",
       "</style>\n",
       "<table border=\"1\" class=\"dataframe\">\n",
       "  <thead>\n",
       "    <tr style=\"text-align: right;\">\n",
       "      <th></th>\n",
       "      <th>Order Id</th>\n",
       "      <th>Date</th>\n",
       "      <th>Meal Id</th>\n",
       "      <th>Company Id</th>\n",
       "      <th>Date of Meal</th>\n",
       "      <th>Participants</th>\n",
       "      <th>Meal Price</th>\n",
       "      <th>Type of Meal</th>\n",
       "      <th>Heroes Adjustment</th>\n",
       "    </tr>\n",
       "  </thead>\n",
       "  <tbody>\n",
       "    <tr>\n",
       "      <th>0</th>\n",
       "      <td>839FKFW2LLX4LMBB</td>\n",
       "      <td>2016-05-27</td>\n",
       "      <td>INBUX904GIHI8YBD</td>\n",
       "      <td>LJKS5NK6788CYMUU</td>\n",
       "      <td>2016-05-31 07:00:00+02:00</td>\n",
       "      <td>['David Bishop']</td>\n",
       "      <td>469.0</td>\n",
       "      <td>Breakfast</td>\n",
       "      <td>False</td>\n",
       "    </tr>\n",
       "    <tr>\n",
       "      <th>1</th>\n",
       "      <td>97OX39BGVMHODLJM</td>\n",
       "      <td>2018-09-27</td>\n",
       "      <td>J0MMOOPP709DIDIE</td>\n",
       "      <td>LJKS5NK6788CYMUU</td>\n",
       "      <td>2018-10-01 20:00:00+02:00</td>\n",
       "      <td>['David Bishop']</td>\n",
       "      <td>22.0</td>\n",
       "      <td>Dinner</td>\n",
       "      <td>False</td>\n",
       "    </tr>\n",
       "  </tbody>\n",
       "</table>\n",
       "</div>"
      ],
      "text/plain": [
       "           Order Id        Date           Meal Id        Company Id  \\\n",
       "0  839FKFW2LLX4LMBB  2016-05-27  INBUX904GIHI8YBD  LJKS5NK6788CYMUU   \n",
       "1  97OX39BGVMHODLJM  2018-09-27  J0MMOOPP709DIDIE  LJKS5NK6788CYMUU   \n",
       "\n",
       "                Date of Meal      Participants  Meal Price Type of Meal  \\\n",
       "0  2016-05-31 07:00:00+02:00  ['David Bishop']       469.0    Breakfast   \n",
       "1  2018-10-01 20:00:00+02:00  ['David Bishop']        22.0       Dinner   \n",
       "\n",
       "  Heroes Adjustment  \n",
       "0             False  \n",
       "1             False  "
      ]
     },
     "execution_count": 69,
     "metadata": {},
     "output_type": "execute_result"
    }
   ],
   "source": [
    "import pandas as pd\n",
    "import numpy as np\n",
    "rea = pd.read_csv(r\"C:\\Users\\Lenovo\\Desktop\\Data_Science\\Inceptez\\SOURCE\\orders.csv\")\n",
    "rea.head(2)"
   ]
  },
  {
   "cell_type": "code",
   "execution_count": 71,
   "metadata": {},
   "outputs": [
    {
     "data": {
      "text/plain": [
       "Order Id              object\n",
       "Date                  object\n",
       "Meal Id               object\n",
       "Company Id            object\n",
       "Date of Meal          object\n",
       "Participants          object\n",
       "Meal Price           float64\n",
       "Type of Meal          object\n",
       "Heroes Adjustment     object\n",
       "dtype: object"
      ]
     },
     "execution_count": 71,
     "metadata": {},
     "output_type": "execute_result"
    }
   ],
   "source": [
    "rea.dtypes"
   ]
  },
  {
   "cell_type": "code",
   "execution_count": 73,
   "metadata": {},
   "outputs": [
    {
     "data": {
      "text/plain": [
       "Dinner       4848\n",
       "Breakfast    4766\n",
       "Lunch        4747\n",
       "Name: Type of Meal, dtype: int64"
      ]
     },
     "execution_count": 73,
     "metadata": {},
     "output_type": "execute_result"
    }
   ],
   "source": [
    "rea['Type of Meal'].value_counts()"
   ]
  },
  {
   "cell_type": "code",
   "execution_count": 75,
   "metadata": {},
   "outputs": [],
   "source": [
    "rea['Date'] = rea['Date'].astype('datetime64')"
   ]
  },
  {
   "cell_type": "code",
   "execution_count": 76,
   "metadata": {},
   "outputs": [
    {
     "data": {
      "text/plain": [
       "Order Id                     object\n",
       "Date                 datetime64[ns]\n",
       "Meal Id                      object\n",
       "Company Id                   object\n",
       "Date of Meal                 object\n",
       "Participants                 object\n",
       "Meal Price                  float64\n",
       "Type of Meal                 object\n",
       "Heroes Adjustment            object\n",
       "dtype: object"
      ]
     },
     "execution_count": 76,
     "metadata": {},
     "output_type": "execute_result"
    }
   ],
   "source": [
    "rea.dtypes"
   ]
  },
  {
   "cell_type": "code",
   "execution_count": 78,
   "metadata": {},
   "outputs": [
    {
     "data": {
      "text/plain": [
       "0   2016-05-27\n",
       "1   2018-09-27\n",
       "2   2014-08-24\n",
       "Name: Date, dtype: datetime64[ns]"
      ]
     },
     "execution_count": 78,
     "metadata": {},
     "output_type": "execute_result"
    }
   ],
   "source": [
    "rea['Date'].head(3)"
   ]
  },
  {
   "cell_type": "code",
   "execution_count": 80,
   "metadata": {},
   "outputs": [
    {
     "data": {
      "text/plain": [
       "0    2016-05-27\n",
       "1    2018-09-27\n",
       "Name: Date, dtype: object"
      ]
     },
     "execution_count": 80,
     "metadata": {},
     "output_type": "execute_result"
    }
   ],
   "source": [
    "rea['Date'].dt.date.head(2)"
   ]
  },
  {
   "cell_type": "code",
   "execution_count": 84,
   "metadata": {},
   "outputs": [
    {
     "data": {
      "text/plain": [
       "0          May\n",
       "1    September\n",
       "Name: Date, dtype: object"
      ]
     },
     "execution_count": 84,
     "metadata": {},
     "output_type": "execute_result"
    }
   ],
   "source": [
    "rea['Date'].dt.month_name().head(2)"
   ]
  },
  {
   "cell_type": "code",
   "execution_count": 86,
   "metadata": {},
   "outputs": [
    {
     "ename": "TypeError",
     "evalue": "'Series' object is not callable",
     "output_type": "error",
     "traceback": [
      "\u001b[1;31m---------------------------------------------------------------------------\u001b[0m",
      "\u001b[1;31mTypeError\u001b[0m                                 Traceback (most recent call last)",
      "\u001b[1;32m<ipython-input-86-58a8f28da46b>\u001b[0m in \u001b[0;36m<module>\u001b[1;34m\u001b[0m\n\u001b[1;32m----> 1\u001b[1;33m \u001b[0mrea\u001b[0m\u001b[1;33m[\u001b[0m\u001b[1;34m'Date'\u001b[0m\u001b[1;33m]\u001b[0m\u001b[1;33m.\u001b[0m\u001b[0mdt\u001b[0m\u001b[1;33m.\u001b[0m\u001b[0mmonth\u001b[0m\u001b[1;33m(\u001b[0m\u001b[1;33m)\u001b[0m\u001b[1;33m.\u001b[0m\u001b[0mhead\u001b[0m\u001b[1;33m(\u001b[0m\u001b[1;36m2\u001b[0m\u001b[1;33m)\u001b[0m\u001b[1;33m\u001b[0m\u001b[1;33m\u001b[0m\u001b[0m\n\u001b[0m",
      "\u001b[1;31mTypeError\u001b[0m: 'Series' object is not callable"
     ]
    }
   ],
   "source": [
    "rea['Date'].dt.month().head(2)"
   ]
  },
  {
   "cell_type": "code",
   "execution_count": 88,
   "metadata": {},
   "outputs": [
    {
     "data": {
      "text/plain": [
       "0    5\n",
       "1    9\n",
       "Name: Date, dtype: int64"
      ]
     },
     "execution_count": 88,
     "metadata": {},
     "output_type": "execute_result"
    }
   ],
   "source": [
    "rea['Date'].dt.month.head(2)"
   ]
  },
  {
   "cell_type": "code",
   "execution_count": 90,
   "metadata": {},
   "outputs": [],
   "source": [
    "rea['Type of Meal'] = rea['Type of Meal'].astype('category')"
   ]
  },
  {
   "cell_type": "code",
   "execution_count": 91,
   "metadata": {},
   "outputs": [
    {
     "data": {
      "text/plain": [
       "Index(['Breakfast', 'Dinner', 'Lunch'], dtype='object')"
      ]
     },
     "execution_count": 91,
     "metadata": {},
     "output_type": "execute_result"
    }
   ],
   "source": [
    "rea['Type of Meal'].cat.categories"
   ]
  },
  {
   "cell_type": "code",
   "execution_count": 93,
   "metadata": {},
   "outputs": [
    {
     "data": {
      "text/plain": [
       "0        0\n",
       "1        1\n",
       "2        2\n",
       "3        1\n",
       "4        2\n",
       "        ..\n",
       "14357    2\n",
       "14358    1\n",
       "14359    0\n",
       "14360    0\n",
       "14361   -1\n",
       "Length: 14362, dtype: int8"
      ]
     },
     "execution_count": 93,
     "metadata": {},
     "output_type": "execute_result"
    }
   ],
   "source": [
    "rea['Type of Meal'].cat.codes"
   ]
  },
  {
   "cell_type": "code",
   "execution_count": 92,
   "metadata": {},
   "outputs": [
    {
     "data": {
      "text/plain": [
       "0        Breakfast\n",
       "1           Dinner\n",
       "2            Lunch\n",
       "3           Dinner\n",
       "4            Lunch\n",
       "           ...    \n",
       "14357        Lunch\n",
       "14358       Dinner\n",
       "14359    Breakfast\n",
       "14360    Breakfast\n",
       "14361          NaN\n",
       "Name: Type of Meal, Length: 14362, dtype: category\n",
       "Categories (3, object): [Breakfast, Dinner, Lunch]"
      ]
     },
     "execution_count": 92,
     "metadata": {},
     "output_type": "execute_result"
    }
   ],
   "source": [
    "rea['Type of Meal'].cat.reorder_categories(['Breakfast', 'Dinner', 'Lunch'])"
   ]
  },
  {
   "cell_type": "code",
   "execution_count": 94,
   "metadata": {},
   "outputs": [
    {
     "data": {
      "text/plain": [
       "Order Id             0\n",
       "Date                 0\n",
       "Meal Id              0\n",
       "Company Id           0\n",
       "Date of Meal         1\n",
       "Participants         1\n",
       "Meal Price           1\n",
       "Type of Meal         1\n",
       "Heroes Adjustment    1\n",
       "dtype: int64"
      ]
     },
     "execution_count": 94,
     "metadata": {},
     "output_type": "execute_result"
    }
   ],
   "source": [
    "rea.isna().sum()"
   ]
  },
  {
   "cell_type": "code",
   "execution_count": 95,
   "metadata": {},
   "outputs": [],
   "source": [
    "rea.dropna(inplace=True)"
   ]
  },
  {
   "cell_type": "code",
   "execution_count": 96,
   "metadata": {},
   "outputs": [],
   "source": [
    "## Assignment: insert a  record at index 70000 to a column meal price"
   ]
  },
  {
   "cell_type": "code",
   "execution_count": 98,
   "metadata": {},
   "outputs": [
    {
     "data": {
      "text/plain": [
       "(14361, 9)"
      ]
     },
     "execution_count": 98,
     "metadata": {},
     "output_type": "execute_result"
    }
   ],
   "source": [
    "rea.shape\n"
   ]
  },
  {
   "cell_type": "code",
   "execution_count": 99,
   "metadata": {},
   "outputs": [],
   "source": [
    "rea.loc[70000,'Meal Price']='not a number but a strig'\n"
   ]
  },
  {
   "cell_type": "markdown",
   "metadata": {},
   "source": [
    "##### Apply"
   ]
  },
  {
   "cell_type": "code",
   "execution_count": 100,
   "metadata": {},
   "outputs": [],
   "source": [
    "rea['Type of Meal']=rea['Type of Meal'].apply(lambda x:x.lower())"
   ]
  },
  {
   "cell_type": "code",
   "execution_count": 108,
   "metadata": {},
   "outputs": [],
   "source": [
    "## Assignment : find the values counts to different datatypes inside 'meal price'"
   ]
  },
  {
   "cell_type": "code",
   "execution_count": 109,
   "metadata": {},
   "outputs": [
    {
     "data": {
      "text/plain": [
       "object            7\n",
       "category          1\n",
       "datetime64[ns]    1\n",
       "dtype: int64"
      ]
     },
     "execution_count": 109,
     "metadata": {},
     "output_type": "execute_result"
    }
   ],
   "source": [
    "rea.dtypes.value_counts()\n"
   ]
  },
  {
   "cell_type": "code",
   "execution_count": 110,
   "metadata": {},
   "outputs": [
    {
     "data": {
      "text/plain": [
       "<class 'float'>    14361\n",
       "<class 'str'>          1\n",
       "Name: Meal Price, dtype: int64"
      ]
     },
     "execution_count": 110,
     "metadata": {},
     "output_type": "execute_result"
    }
   ],
   "source": [
    "ls=rea['Meal Price'].apply(lambda x:type(x))\n",
    "ls.value_counts()\n"
   ]
  },
  {
   "cell_type": "code",
   "execution_count": 1,
   "metadata": {},
   "outputs": [
    {
     "data": {
      "text/html": [
       "<div>\n",
       "<style scoped>\n",
       "    .dataframe tbody tr th:only-of-type {\n",
       "        vertical-align: middle;\n",
       "    }\n",
       "\n",
       "    .dataframe tbody tr th {\n",
       "        vertical-align: top;\n",
       "    }\n",
       "\n",
       "    .dataframe thead th {\n",
       "        text-align: right;\n",
       "    }\n",
       "</style>\n",
       "<table border=\"1\" class=\"dataframe\">\n",
       "  <thead>\n",
       "    <tr style=\"text-align: right;\">\n",
       "      <th></th>\n",
       "      <th>Order Id</th>\n",
       "      <th>Date</th>\n",
       "      <th>Meal Id</th>\n",
       "      <th>Company Id</th>\n",
       "      <th>Date of Meal</th>\n",
       "      <th>Participants</th>\n",
       "      <th>Meal Price</th>\n",
       "      <th>Type of Meal</th>\n",
       "      <th>Heroes Adjustment</th>\n",
       "    </tr>\n",
       "  </thead>\n",
       "  <tbody>\n",
       "    <tr>\n",
       "      <th>0</th>\n",
       "      <td>839FKFW2LLX4LMBB</td>\n",
       "      <td>2016-05-27</td>\n",
       "      <td>INBUX904GIHI8YBD</td>\n",
       "      <td>LJKS5NK6788CYMUU</td>\n",
       "      <td>2016-05-31 07:00:00+02:00</td>\n",
       "      <td>['David Bishop']</td>\n",
       "      <td>469.0</td>\n",
       "      <td>Breakfast</td>\n",
       "      <td>False</td>\n",
       "    </tr>\n",
       "    <tr>\n",
       "      <th>1</th>\n",
       "      <td>97OX39BGVMHODLJM</td>\n",
       "      <td>2018-09-27</td>\n",
       "      <td>J0MMOOPP709DIDIE</td>\n",
       "      <td>LJKS5NK6788CYMUU</td>\n",
       "      <td>2018-10-01 20:00:00+02:00</td>\n",
       "      <td>['David Bishop']</td>\n",
       "      <td>22.0</td>\n",
       "      <td>Dinner</td>\n",
       "      <td>False</td>\n",
       "    </tr>\n",
       "  </tbody>\n",
       "</table>\n",
       "</div>"
      ],
      "text/plain": [
       "           Order Id        Date           Meal Id        Company Id  \\\n",
       "0  839FKFW2LLX4LMBB  2016-05-27  INBUX904GIHI8YBD  LJKS5NK6788CYMUU   \n",
       "1  97OX39BGVMHODLJM  2018-09-27  J0MMOOPP709DIDIE  LJKS5NK6788CYMUU   \n",
       "\n",
       "                Date of Meal      Participants  Meal Price Type of Meal  \\\n",
       "0  2016-05-31 07:00:00+02:00  ['David Bishop']       469.0    Breakfast   \n",
       "1  2018-10-01 20:00:00+02:00  ['David Bishop']        22.0       Dinner   \n",
       "\n",
       "  Heroes Adjustment  \n",
       "0             False  \n",
       "1             False  "
      ]
     },
     "execution_count": 1,
     "metadata": {},
     "output_type": "execute_result"
    }
   ],
   "source": [
    "import pandas as pd\n",
    "import numpy as np\n",
    "df = pd.read_csv(r\"C:\\Users\\Lenovo\\Desktop\\Data_Science\\Inceptez\\SOURCE\\orders.csv\")\n",
    "df.head(2)"
   ]
  },
  {
   "cell_type": "code",
   "execution_count": 2,
   "metadata": {},
   "outputs": [],
   "source": [
    "df1 = df.copy()"
   ]
  },
  {
   "cell_type": "code",
   "execution_count": 3,
   "metadata": {},
   "outputs": [
    {
     "data": {
      "text/plain": [
       "Order Id             14362\n",
       "Date                 14362\n",
       "Meal Id              14362\n",
       "Company Id           14362\n",
       "Date of Meal         14361\n",
       "Participants         14361\n",
       "Meal Price           14361\n",
       "Type of Meal         14361\n",
       "Heroes Adjustment    14361\n",
       "dtype: int64"
      ]
     },
     "execution_count": 3,
     "metadata": {},
     "output_type": "execute_result"
    }
   ],
   "source": [
    "df1.count()"
   ]
  },
  {
   "cell_type": "code",
   "execution_count": 6,
   "metadata": {},
   "outputs": [
    {
     "ename": "NameError",
     "evalue": "name 'new_row' is not defined",
     "output_type": "error",
     "traceback": [
      "\u001b[1;31m---------------------------------------------------------------------------\u001b[0m",
      "\u001b[1;31mNameError\u001b[0m                                 Traceback (most recent call last)",
      "\u001b[1;32m<ipython-input-6-5e57b1c5ebd2>\u001b[0m in \u001b[0;36m<module>\u001b[1;34m\u001b[0m\n\u001b[1;32m----> 1\u001b[1;33m \u001b[0mdf1\u001b[0m\u001b[1;33m.\u001b[0m\u001b[0mappend\u001b[0m\u001b[1;33m(\u001b[0m\u001b[0mnew_row\u001b[0m\u001b[1;33m,\u001b[0m\u001b[0mignore_index\u001b[0m\u001b[1;33m=\u001b[0m\u001b[1;32mTrue\u001b[0m\u001b[1;33m)\u001b[0m\u001b[1;33m\u001b[0m\u001b[1;33m\u001b[0m\u001b[0m\n\u001b[0m",
      "\u001b[1;31mNameError\u001b[0m: name 'new_row' is not defined"
     ]
    }
   ],
   "source": [
    "df1.append(new_row,ignore_index=True)"
   ]
  },
  {
   "cell_type": "code",
   "execution_count": 7,
   "metadata": {},
   "outputs": [
    {
     "data": {
      "text/html": [
       "<div>\n",
       "<style scoped>\n",
       "    .dataframe tbody tr th:only-of-type {\n",
       "        vertical-align: middle;\n",
       "    }\n",
       "\n",
       "    .dataframe tbody tr th {\n",
       "        vertical-align: top;\n",
       "    }\n",
       "\n",
       "    .dataframe thead th {\n",
       "        text-align: right;\n",
       "    }\n",
       "</style>\n",
       "<table border=\"1\" class=\"dataframe\">\n",
       "  <thead>\n",
       "    <tr style=\"text-align: right;\">\n",
       "      <th></th>\n",
       "      <th>Order Id</th>\n",
       "      <th>Date</th>\n",
       "      <th>Meal Id</th>\n",
       "      <th>Company Id</th>\n",
       "      <th>Date of Meal</th>\n",
       "      <th>Participants</th>\n",
       "      <th>Meal Price</th>\n",
       "      <th>Type of Meal</th>\n",
       "      <th>Heroes Adjustment</th>\n",
       "    </tr>\n",
       "  </thead>\n",
       "  <tbody>\n",
       "    <tr>\n",
       "      <th>0</th>\n",
       "      <td>839FKFW2LLX4LMBB</td>\n",
       "      <td>2016-05-27</td>\n",
       "      <td>INBUX904GIHI8YBD</td>\n",
       "      <td>LJKS5NK6788CYMUU</td>\n",
       "      <td>2016-05-31 07:00:00+02:00</td>\n",
       "      <td>['David Bishop']</td>\n",
       "      <td>469.0</td>\n",
       "      <td>Breakfast</td>\n",
       "      <td>False</td>\n",
       "    </tr>\n",
       "    <tr>\n",
       "      <th>1</th>\n",
       "      <td>97OX39BGVMHODLJM</td>\n",
       "      <td>2018-09-27</td>\n",
       "      <td>J0MMOOPP709DIDIE</td>\n",
       "      <td>LJKS5NK6788CYMUU</td>\n",
       "      <td>2018-10-01 20:00:00+02:00</td>\n",
       "      <td>['David Bishop']</td>\n",
       "      <td>22.0</td>\n",
       "      <td>Dinner</td>\n",
       "      <td>False</td>\n",
       "    </tr>\n",
       "    <tr>\n",
       "      <th>2</th>\n",
       "      <td>041ORQM5OIHTIU6L</td>\n",
       "      <td>2014-08-24</td>\n",
       "      <td>E4UJLQNCI16UX5CS</td>\n",
       "      <td>LJKS5NK6788CYMUU</td>\n",
       "      <td>2014-08-23 14:00:00+02:00</td>\n",
       "      <td>['Karen Stansell']</td>\n",
       "      <td>314.0</td>\n",
       "      <td>Lunch</td>\n",
       "      <td>False</td>\n",
       "    </tr>\n",
       "    <tr>\n",
       "      <th>3</th>\n",
       "      <td>YT796QI18WNGZ7ZJ</td>\n",
       "      <td>2014-04-12</td>\n",
       "      <td>C9SDFHF7553BE247</td>\n",
       "      <td>LJKS5NK6788CYMUU</td>\n",
       "      <td>2014-04-07 21:00:00+02:00</td>\n",
       "      <td>['Addie Patino']</td>\n",
       "      <td>438.0</td>\n",
       "      <td>Dinner</td>\n",
       "      <td>False</td>\n",
       "    </tr>\n",
       "    <tr>\n",
       "      <th>4</th>\n",
       "      <td>6YLROQT27B6HRF4E</td>\n",
       "      <td>2015-07-28</td>\n",
       "      <td>48EQXS6IHYNZDDZ5</td>\n",
       "      <td>LJKS5NK6788CYMUU</td>\n",
       "      <td>2015-07-27 14:00:00+02:00</td>\n",
       "      <td>['Addie Patino' 'Susan Guerrero']</td>\n",
       "      <td>690.0</td>\n",
       "      <td>Lunch</td>\n",
       "      <td>False</td>\n",
       "    </tr>\n",
       "    <tr>\n",
       "      <th>...</th>\n",
       "      <td>...</td>\n",
       "      <td>...</td>\n",
       "      <td>...</td>\n",
       "      <td>...</td>\n",
       "      <td>...</td>\n",
       "      <td>...</td>\n",
       "      <td>...</td>\n",
       "      <td>...</td>\n",
       "      <td>...</td>\n",
       "    </tr>\n",
       "    <tr>\n",
       "      <th>14357</th>\n",
       "      <td>BD2DKH8I61Y0NL7Z</td>\n",
       "      <td>2018-01-12</td>\n",
       "      <td>4VLH5HYF70RP1YJK</td>\n",
       "      <td>I27J9NPYES4BIXBR</td>\n",
       "      <td>2018-01-16 14:00:00+01:00</td>\n",
       "      <td>['Sharon Goines' 'Margo Deslauriers']</td>\n",
       "      <td>280.0</td>\n",
       "      <td>Lunch</td>\n",
       "      <td>False</td>\n",
       "    </tr>\n",
       "    <tr>\n",
       "      <th>14358</th>\n",
       "      <td>RFK2C21CD7IAOUZT</td>\n",
       "      <td>2016-06-30</td>\n",
       "      <td>EGQRRRN5D1Y97WGD</td>\n",
       "      <td>I27J9NPYES4BIXBR</td>\n",
       "      <td>2016-06-26 20:00:00+02:00</td>\n",
       "      <td>['Kenisha Ordonez']</td>\n",
       "      <td>49.0</td>\n",
       "      <td>Dinner</td>\n",
       "      <td>False</td>\n",
       "    </tr>\n",
       "    <tr>\n",
       "      <th>14359</th>\n",
       "      <td>2UMDU938DTE7D808</td>\n",
       "      <td>2016-04-10</td>\n",
       "      <td>AV323CBF7N78MCYD</td>\n",
       "      <td>I27J9NPYES4BIXBR</td>\n",
       "      <td>2016-04-10 07:00:00+02:00</td>\n",
       "      <td>['Douglas Villanueva']</td>\n",
       "      <td>81.0</td>\n",
       "      <td>Breakfast</td>\n",
       "      <td>False</td>\n",
       "    </tr>\n",
       "    <tr>\n",
       "      <th>14360</th>\n",
       "      <td>NEER4D5TN6GQV9WA</td>\n",
       "      <td>2015-07-19</td>\n",
       "      <td>RDLHP30JLO9RYWDR</td>\n",
       "      <td>I27J9NPYES4BIXBR</td>\n",
       "      <td>2015-07-21 09:00:00+02:00</td>\n",
       "      <td>['Douglas Villanueva' 'Kenisha Ordonez']</td>\n",
       "      <td>210.0</td>\n",
       "      <td>Breakfast</td>\n",
       "      <td>False</td>\n",
       "    </tr>\n",
       "    <tr>\n",
       "      <th>14361</th>\n",
       "      <td>2NF38UES2LW6TR2A</td>\n",
       "      <td>2017-02-24</td>\n",
       "      <td>MOEZTCDKASD8Z0UP</td>\n",
       "      <td>I</td>\n",
       "      <td>NaN</td>\n",
       "      <td>NaN</td>\n",
       "      <td>NaN</td>\n",
       "      <td>NaN</td>\n",
       "      <td>NaN</td>\n",
       "    </tr>\n",
       "  </tbody>\n",
       "</table>\n",
       "<p>28724 rows × 9 columns</p>\n",
       "</div>"
      ],
      "text/plain": [
       "               Order Id        Date           Meal Id        Company Id  \\\n",
       "0      839FKFW2LLX4LMBB  2016-05-27  INBUX904GIHI8YBD  LJKS5NK6788CYMUU   \n",
       "1      97OX39BGVMHODLJM  2018-09-27  J0MMOOPP709DIDIE  LJKS5NK6788CYMUU   \n",
       "2      041ORQM5OIHTIU6L  2014-08-24  E4UJLQNCI16UX5CS  LJKS5NK6788CYMUU   \n",
       "3      YT796QI18WNGZ7ZJ  2014-04-12  C9SDFHF7553BE247  LJKS5NK6788CYMUU   \n",
       "4      6YLROQT27B6HRF4E  2015-07-28  48EQXS6IHYNZDDZ5  LJKS5NK6788CYMUU   \n",
       "...                 ...         ...               ...               ...   \n",
       "14357  BD2DKH8I61Y0NL7Z  2018-01-12  4VLH5HYF70RP1YJK  I27J9NPYES4BIXBR   \n",
       "14358  RFK2C21CD7IAOUZT  2016-06-30  EGQRRRN5D1Y97WGD  I27J9NPYES4BIXBR   \n",
       "14359  2UMDU938DTE7D808  2016-04-10  AV323CBF7N78MCYD  I27J9NPYES4BIXBR   \n",
       "14360  NEER4D5TN6GQV9WA  2015-07-19  RDLHP30JLO9RYWDR  I27J9NPYES4BIXBR   \n",
       "14361  2NF38UES2LW6TR2A  2017-02-24  MOEZTCDKASD8Z0UP                 I   \n",
       "\n",
       "                    Date of Meal                              Participants  \\\n",
       "0      2016-05-31 07:00:00+02:00                          ['David Bishop']   \n",
       "1      2018-10-01 20:00:00+02:00                          ['David Bishop']   \n",
       "2      2014-08-23 14:00:00+02:00                        ['Karen Stansell']   \n",
       "3      2014-04-07 21:00:00+02:00                          ['Addie Patino']   \n",
       "4      2015-07-27 14:00:00+02:00         ['Addie Patino' 'Susan Guerrero']   \n",
       "...                          ...                                       ...   \n",
       "14357  2018-01-16 14:00:00+01:00     ['Sharon Goines' 'Margo Deslauriers']   \n",
       "14358  2016-06-26 20:00:00+02:00                       ['Kenisha Ordonez']   \n",
       "14359  2016-04-10 07:00:00+02:00                    ['Douglas Villanueva']   \n",
       "14360  2015-07-21 09:00:00+02:00  ['Douglas Villanueva' 'Kenisha Ordonez']   \n",
       "14361                        NaN                                       NaN   \n",
       "\n",
       "       Meal Price Type of Meal Heroes Adjustment  \n",
       "0           469.0    Breakfast             False  \n",
       "1            22.0       Dinner             False  \n",
       "2           314.0        Lunch             False  \n",
       "3           438.0       Dinner             False  \n",
       "4           690.0        Lunch             False  \n",
       "...           ...          ...               ...  \n",
       "14357       280.0        Lunch             False  \n",
       "14358        49.0       Dinner             False  \n",
       "14359        81.0    Breakfast             False  \n",
       "14360       210.0    Breakfast             False  \n",
       "14361         NaN          NaN               NaN  \n",
       "\n",
       "[28724 rows x 9 columns]"
      ]
     },
     "execution_count": 7,
     "metadata": {},
     "output_type": "execute_result"
    }
   ],
   "source": [
    "df1.append(df)"
   ]
  },
  {
   "cell_type": "code",
   "execution_count": 10,
   "metadata": {},
   "outputs": [
    {
     "data": {
      "text/plain": [
       "Order Id                      D0395E9EXLRNNC5Q\n",
       "Date                                2015-05-30\n",
       "Meal Id                       8LWTFEH1ST5TCWVA\n",
       "Company Id                    9HUDWGJ1CU1IKMEJ\n",
       "Date of Meal         2015-05-27 14:00:00+02:00\n",
       "Participants                 ['Latanya Davis']\n",
       "Meal Price                                  15\n",
       "Type of Meal                             Lunch\n",
       "Heroes Adjustment                        False\n",
       "Name: 1000, dtype: object"
      ]
     },
     "execution_count": 10,
     "metadata": {},
     "output_type": "execute_result"
    }
   ],
   "source": [
    "df1.loc[1000,:]"
   ]
  },
  {
   "cell_type": "code",
   "execution_count": 12,
   "metadata": {},
   "outputs": [],
   "source": [
    "new_row = {'Order Id':['D0395E9989LRNNC5Q','D0395E9EXLRNNC5e'],\n",
    "          'Date':['2020-01-20','2019-09-18'],\n",
    "          'Meal Id':['8LWTFEH1ST5TCWVA','8LWTFEH1ST5TCWVA']}"
   ]
  },
  {
   "cell_type": "code",
   "execution_count": 14,
   "metadata": {},
   "outputs": [
    {
     "ename": "TypeError",
     "evalue": "cannot concatenate object of type '<class 'dict'>'; only Series and DataFrame objs are valid",
     "output_type": "error",
     "traceback": [
      "\u001b[1;31m---------------------------------------------------------------------------\u001b[0m",
      "\u001b[1;31mTypeError\u001b[0m                                 Traceback (most recent call last)",
      "\u001b[1;32m<ipython-input-14-03b4409fbd9b>\u001b[0m in \u001b[0;36m<module>\u001b[1;34m\u001b[0m\n\u001b[1;32m----> 1\u001b[1;33m \u001b[0mpd\u001b[0m\u001b[1;33m.\u001b[0m\u001b[0mconcat\u001b[0m\u001b[1;33m(\u001b[0m\u001b[1;33m[\u001b[0m\u001b[0mdf1\u001b[0m\u001b[1;33m,\u001b[0m\u001b[0mnew_row\u001b[0m\u001b[1;33m]\u001b[0m\u001b[1;33m)\u001b[0m\u001b[1;33m\u001b[0m\u001b[1;33m\u001b[0m\u001b[0m\n\u001b[0m",
      "\u001b[1;32mC:\\Anaconda3\\lib\\site-packages\\pandas\\core\\reshape\\concat.py\u001b[0m in \u001b[0;36mconcat\u001b[1;34m(objs, axis, join, ignore_index, keys, levels, names, verify_integrity, sort, copy)\u001b[0m\n\u001b[0;32m    279\u001b[0m         \u001b[0mverify_integrity\u001b[0m\u001b[1;33m=\u001b[0m\u001b[0mverify_integrity\u001b[0m\u001b[1;33m,\u001b[0m\u001b[1;33m\u001b[0m\u001b[1;33m\u001b[0m\u001b[0m\n\u001b[0;32m    280\u001b[0m         \u001b[0mcopy\u001b[0m\u001b[1;33m=\u001b[0m\u001b[0mcopy\u001b[0m\u001b[1;33m,\u001b[0m\u001b[1;33m\u001b[0m\u001b[1;33m\u001b[0m\u001b[0m\n\u001b[1;32m--> 281\u001b[1;33m         \u001b[0msort\u001b[0m\u001b[1;33m=\u001b[0m\u001b[0msort\u001b[0m\u001b[1;33m,\u001b[0m\u001b[1;33m\u001b[0m\u001b[1;33m\u001b[0m\u001b[0m\n\u001b[0m\u001b[0;32m    282\u001b[0m     )\n\u001b[0;32m    283\u001b[0m \u001b[1;33m\u001b[0m\u001b[0m\n",
      "\u001b[1;32mC:\\Anaconda3\\lib\\site-packages\\pandas\\core\\reshape\\concat.py\u001b[0m in \u001b[0;36m__init__\u001b[1;34m(self, objs, axis, join, keys, levels, names, ignore_index, verify_integrity, copy, sort)\u001b[0m\n\u001b[0;32m    355\u001b[0m                     \u001b[1;34m\"only Series and DataFrame objs are valid\"\u001b[0m\u001b[1;33m.\u001b[0m\u001b[0mformat\u001b[0m\u001b[1;33m(\u001b[0m\u001b[0mtyp\u001b[0m\u001b[1;33m=\u001b[0m\u001b[0mtype\u001b[0m\u001b[1;33m(\u001b[0m\u001b[0mobj\u001b[0m\u001b[1;33m)\u001b[0m\u001b[1;33m)\u001b[0m\u001b[1;33m\u001b[0m\u001b[1;33m\u001b[0m\u001b[0m\n\u001b[0;32m    356\u001b[0m                 )\n\u001b[1;32m--> 357\u001b[1;33m                 \u001b[1;32mraise\u001b[0m \u001b[0mTypeError\u001b[0m\u001b[1;33m(\u001b[0m\u001b[0mmsg\u001b[0m\u001b[1;33m)\u001b[0m\u001b[1;33m\u001b[0m\u001b[1;33m\u001b[0m\u001b[0m\n\u001b[0m\u001b[0;32m    358\u001b[0m \u001b[1;33m\u001b[0m\u001b[0m\n\u001b[0;32m    359\u001b[0m             \u001b[1;31m# consolidate\u001b[0m\u001b[1;33m\u001b[0m\u001b[1;33m\u001b[0m\u001b[1;33m\u001b[0m\u001b[0m\n",
      "\u001b[1;31mTypeError\u001b[0m: cannot concatenate object of type '<class 'dict'>'; only Series and DataFrame objs are valid"
     ]
    }
   ],
   "source": [
    "pd.concat([df1,new_row])"
   ]
  },
  {
   "cell_type": "code",
   "execution_count": 15,
   "metadata": {},
   "outputs": [
    {
     "data": {
      "text/html": [
       "<div>\n",
       "<style scoped>\n",
       "    .dataframe tbody tr th:only-of-type {\n",
       "        vertical-align: middle;\n",
       "    }\n",
       "\n",
       "    .dataframe tbody tr th {\n",
       "        vertical-align: top;\n",
       "    }\n",
       "\n",
       "    .dataframe thead th {\n",
       "        text-align: right;\n",
       "    }\n",
       "</style>\n",
       "<table border=\"1\" class=\"dataframe\">\n",
       "  <thead>\n",
       "    <tr style=\"text-align: right;\">\n",
       "      <th></th>\n",
       "      <th>Order Id</th>\n",
       "      <th>Company Id</th>\n",
       "      <th>Company Name</th>\n",
       "      <th>Date</th>\n",
       "      <th>Order Value</th>\n",
       "      <th>Converted</th>\n",
       "    </tr>\n",
       "  </thead>\n",
       "  <tbody>\n",
       "    <tr>\n",
       "      <th>0</th>\n",
       "      <td>80EYLOKP9E762WKG</td>\n",
       "      <td>LJKS5NK6788CYMUU</td>\n",
       "      <td>Chimera-Chasing Casbah</td>\n",
       "      <td>2017-02-18</td>\n",
       "      <td>4875.0</td>\n",
       "      <td>1.0</td>\n",
       "    </tr>\n",
       "    <tr>\n",
       "      <th>1</th>\n",
       "      <td>TLEXR1HZWTUTBHPB</td>\n",
       "      <td>LJKS5NK6788CYMUU</td>\n",
       "      <td>Chimera-Chasing Casbah</td>\n",
       "      <td>2015-07-30</td>\n",
       "      <td>8425.0</td>\n",
       "      <td>0.0</td>\n",
       "    </tr>\n",
       "  </tbody>\n",
       "</table>\n",
       "</div>"
      ],
      "text/plain": [
       "           Order Id        Company Id            Company Name        Date  \\\n",
       "0  80EYLOKP9E762WKG  LJKS5NK6788CYMUU  Chimera-Chasing Casbah  2017-02-18   \n",
       "1  TLEXR1HZWTUTBHPB  LJKS5NK6788CYMUU  Chimera-Chasing Casbah  2015-07-30   \n",
       "\n",
       "   Order Value  Converted  \n",
       "0       4875.0        1.0  \n",
       "1       8425.0        0.0  "
      ]
     },
     "execution_count": 15,
     "metadata": {},
     "output_type": "execute_result"
    }
   ],
   "source": [
    "import pandas as pd\n",
    "import numpy as np\n",
    "ol = pd.read_csv(r\"C:\\Users\\Lenovo\\Desktop\\Data_Science\\Inceptez\\SOURCE\\order_leads.csv\")\n",
    "ol.head(2)"
   ]
  },
  {
   "cell_type": "code",
   "execution_count": 16,
   "metadata": {},
   "outputs": [
    {
     "data": {
      "text/html": [
       "<div>\n",
       "<style scoped>\n",
       "    .dataframe tbody tr th:only-of-type {\n",
       "        vertical-align: middle;\n",
       "    }\n",
       "\n",
       "    .dataframe tbody tr th {\n",
       "        vertical-align: top;\n",
       "    }\n",
       "\n",
       "    .dataframe thead th {\n",
       "        text-align: right;\n",
       "    }\n",
       "</style>\n",
       "<table border=\"1\" class=\"dataframe\">\n",
       "  <thead>\n",
       "    <tr style=\"text-align: right;\">\n",
       "      <th></th>\n",
       "      <th>Sales Rep</th>\n",
       "      <th>Sales Rep Id</th>\n",
       "      <th>Company Name</th>\n",
       "      <th>Company Id</th>\n",
       "    </tr>\n",
       "  </thead>\n",
       "  <tbody>\n",
       "    <tr>\n",
       "      <th>0</th>\n",
       "      <td>Jessie Mcallister</td>\n",
       "      <td>97UNNAT790E0WM4N</td>\n",
       "      <td>Chimera-Chasing Casbah</td>\n",
       "      <td>LJKS5NK6788CYMUU</td>\n",
       "    </tr>\n",
       "    <tr>\n",
       "      <th>1</th>\n",
       "      <td>Jessie Mcallister</td>\n",
       "      <td>97UNNAT790E0WM4N</td>\n",
       "      <td>Tangential Sheds</td>\n",
       "      <td>36MFTZOYMTAJP1RK</td>\n",
       "    </tr>\n",
       "  </tbody>\n",
       "</table>\n",
       "</div>"
      ],
      "text/plain": [
       "           Sales Rep      Sales Rep Id            Company Name  \\\n",
       "0  Jessie Mcallister  97UNNAT790E0WM4N  Chimera-Chasing Casbah   \n",
       "1  Jessie Mcallister  97UNNAT790E0WM4N        Tangential Sheds   \n",
       "\n",
       "         Company Id  \n",
       "0  LJKS5NK6788CYMUU  \n",
       "1  36MFTZOYMTAJP1RK  "
      ]
     },
     "execution_count": 16,
     "metadata": {},
     "output_type": "execute_result"
    }
   ],
   "source": [
    "st = pd.read_csv(r\"C:\\Users\\Lenovo\\Desktop\\Data_Science\\Inceptez\\SOURCE\\sales_team.csv\")\n",
    "st.head(2)"
   ]
  },
  {
   "cell_type": "code",
   "execution_count": 17,
   "metadata": {},
   "outputs": [
    {
     "data": {
      "text/html": [
       "<div>\n",
       "<style scoped>\n",
       "    .dataframe tbody tr th:only-of-type {\n",
       "        vertical-align: middle;\n",
       "    }\n",
       "\n",
       "    .dataframe tbody tr th {\n",
       "        vertical-align: top;\n",
       "    }\n",
       "\n",
       "    .dataframe thead th {\n",
       "        text-align: right;\n",
       "    }\n",
       "</style>\n",
       "<table border=\"1\" class=\"dataframe\">\n",
       "  <thead>\n",
       "    <tr style=\"text-align: right;\">\n",
       "      <th></th>\n",
       "      <th>Order Id</th>\n",
       "      <th>Company Id</th>\n",
       "      <th>Company Name_x</th>\n",
       "      <th>Date</th>\n",
       "      <th>Order Value</th>\n",
       "      <th>Converted</th>\n",
       "      <th>Sales Rep</th>\n",
       "      <th>Sales Rep Id</th>\n",
       "      <th>Company Name_y</th>\n",
       "    </tr>\n",
       "  </thead>\n",
       "  <tbody>\n",
       "    <tr>\n",
       "      <th>0</th>\n",
       "      <td>80EYLOKP9E762WKG</td>\n",
       "      <td>LJKS5NK6788CYMUU</td>\n",
       "      <td>Chimera-Chasing Casbah</td>\n",
       "      <td>2017-02-18</td>\n",
       "      <td>4875.0</td>\n",
       "      <td>1.0</td>\n",
       "      <td>Jessie Mcallister</td>\n",
       "      <td>97UNNAT790E0WM4N</td>\n",
       "      <td>Chimera-Chasing Casbah</td>\n",
       "    </tr>\n",
       "    <tr>\n",
       "      <th>1</th>\n",
       "      <td>TLEXR1HZWTUTBHPB</td>\n",
       "      <td>LJKS5NK6788CYMUU</td>\n",
       "      <td>Chimera-Chasing Casbah</td>\n",
       "      <td>2015-07-30</td>\n",
       "      <td>8425.0</td>\n",
       "      <td>0.0</td>\n",
       "      <td>Jessie Mcallister</td>\n",
       "      <td>97UNNAT790E0WM4N</td>\n",
       "      <td>Chimera-Chasing Casbah</td>\n",
       "    </tr>\n",
       "    <tr>\n",
       "      <th>2</th>\n",
       "      <td>839FKFW2LLX4LMBB</td>\n",
       "      <td>LJKS5NK6788CYMUU</td>\n",
       "      <td>Chimera-Chasing Casbah</td>\n",
       "      <td>2016-05-27</td>\n",
       "      <td>4837.0</td>\n",
       "      <td>0.0</td>\n",
       "      <td>Jessie Mcallister</td>\n",
       "      <td>97UNNAT790E0WM4N</td>\n",
       "      <td>Chimera-Chasing Casbah</td>\n",
       "    </tr>\n",
       "    <tr>\n",
       "      <th>3</th>\n",
       "      <td>97OX39BGVMHODLJM</td>\n",
       "      <td>LJKS5NK6788CYMUU</td>\n",
       "      <td>Chimera-Chasing Casbah</td>\n",
       "      <td>2018-09-27</td>\n",
       "      <td>343.0</td>\n",
       "      <td>0.0</td>\n",
       "      <td>Jessie Mcallister</td>\n",
       "      <td>97UNNAT790E0WM4N</td>\n",
       "      <td>Chimera-Chasing Casbah</td>\n",
       "    </tr>\n",
       "  </tbody>\n",
       "</table>\n",
       "</div>"
      ],
      "text/plain": [
       "           Order Id        Company Id          Company Name_x        Date  \\\n",
       "0  80EYLOKP9E762WKG  LJKS5NK6788CYMUU  Chimera-Chasing Casbah  2017-02-18   \n",
       "1  TLEXR1HZWTUTBHPB  LJKS5NK6788CYMUU  Chimera-Chasing Casbah  2015-07-30   \n",
       "2  839FKFW2LLX4LMBB  LJKS5NK6788CYMUU  Chimera-Chasing Casbah  2016-05-27   \n",
       "3  97OX39BGVMHODLJM  LJKS5NK6788CYMUU  Chimera-Chasing Casbah  2018-09-27   \n",
       "\n",
       "   Order Value  Converted          Sales Rep      Sales Rep Id  \\\n",
       "0       4875.0        1.0  Jessie Mcallister  97UNNAT790E0WM4N   \n",
       "1       8425.0        0.0  Jessie Mcallister  97UNNAT790E0WM4N   \n",
       "2       4837.0        0.0  Jessie Mcallister  97UNNAT790E0WM4N   \n",
       "3        343.0        0.0  Jessie Mcallister  97UNNAT790E0WM4N   \n",
       "\n",
       "           Company Name_y  \n",
       "0  Chimera-Chasing Casbah  \n",
       "1  Chimera-Chasing Casbah  \n",
       "2  Chimera-Chasing Casbah  \n",
       "3  Chimera-Chasing Casbah  "
      ]
     },
     "execution_count": 17,
     "metadata": {},
     "output_type": "execute_result"
    }
   ],
   "source": [
    "pd.merge(ol,st,on='Company Id').head(4)"
   ]
  },
  {
   "cell_type": "code",
   "execution_count": 20,
   "metadata": {},
   "outputs": [
    {
     "data": {
      "text/html": [
       "<div>\n",
       "<style scoped>\n",
       "    .dataframe tbody tr th:only-of-type {\n",
       "        vertical-align: middle;\n",
       "    }\n",
       "\n",
       "    .dataframe tbody tr th {\n",
       "        vertical-align: top;\n",
       "    }\n",
       "\n",
       "    .dataframe thead th {\n",
       "        text-align: right;\n",
       "    }\n",
       "</style>\n",
       "<table border=\"1\" class=\"dataframe\">\n",
       "  <thead>\n",
       "    <tr style=\"text-align: right;\">\n",
       "      <th></th>\n",
       "      <th>Order Id</th>\n",
       "      <th>Date</th>\n",
       "      <th>Company Id</th>\n",
       "      <th>Devied_col</th>\n",
       "      <th>Sales Rep Id</th>\n",
       "      <th>Company Name</th>\n",
       "    </tr>\n",
       "  </thead>\n",
       "  <tbody>\n",
       "    <tr>\n",
       "      <th>0</th>\n",
       "      <td>80EYLOKP9E762WKG</td>\n",
       "      <td>2017-02-18</td>\n",
       "      <td>LJKS5NK6788CYMUU</td>\n",
       "      <td>Jessie Mcallister</td>\n",
       "      <td>97UNNAT790E0WM4N</td>\n",
       "      <td>Chimera-Chasing Casbah</td>\n",
       "    </tr>\n",
       "    <tr>\n",
       "      <th>1</th>\n",
       "      <td>TLEXR1HZWTUTBHPB</td>\n",
       "      <td>2015-07-30</td>\n",
       "      <td>LJKS5NK6788CYMUU</td>\n",
       "      <td>Jessie Mcallister</td>\n",
       "      <td>97UNNAT790E0WM4N</td>\n",
       "      <td>Chimera-Chasing Casbah</td>\n",
       "    </tr>\n",
       "    <tr>\n",
       "      <th>2</th>\n",
       "      <td>839FKFW2LLX4LMBB</td>\n",
       "      <td>2016-05-27</td>\n",
       "      <td>LJKS5NK6788CYMUU</td>\n",
       "      <td>Jessie Mcallister</td>\n",
       "      <td>97UNNAT790E0WM4N</td>\n",
       "      <td>Chimera-Chasing Casbah</td>\n",
       "    </tr>\n",
       "    <tr>\n",
       "      <th>3</th>\n",
       "      <td>97OX39BGVMHODLJM</td>\n",
       "      <td>2018-09-27</td>\n",
       "      <td>LJKS5NK6788CYMUU</td>\n",
       "      <td>Jessie Mcallister</td>\n",
       "      <td>97UNNAT790E0WM4N</td>\n",
       "      <td>Chimera-Chasing Casbah</td>\n",
       "    </tr>\n",
       "    <tr>\n",
       "      <th>4</th>\n",
       "      <td>5T4LGH4XGBWOD49Z</td>\n",
       "      <td>2016-01-14</td>\n",
       "      <td>LJKS5NK6788CYMUU</td>\n",
       "      <td>Jessie Mcallister</td>\n",
       "      <td>97UNNAT790E0WM4N</td>\n",
       "      <td>Chimera-Chasing Casbah</td>\n",
       "    </tr>\n",
       "    <tr>\n",
       "      <th>...</th>\n",
       "      <td>...</td>\n",
       "      <td>...</td>\n",
       "      <td>...</td>\n",
       "      <td>...</td>\n",
       "      <td>...</td>\n",
       "      <td>...</td>\n",
       "    </tr>\n",
       "    <tr>\n",
       "      <th>26849</th>\n",
       "      <td>USVU3XBOTB3UUSGX</td>\n",
       "      <td>2018-02-24</td>\n",
       "      <td>LF85GK2DBRYS10ZA</td>\n",
       "      <td>Colleen Smialek</td>\n",
       "      <td>7ZANOLGQK6GS8M6K</td>\n",
       "      <td>Watery Barge</td>\n",
       "    </tr>\n",
       "    <tr>\n",
       "      <th>26850</th>\n",
       "      <td>RHWPAUYMZAUR4790</td>\n",
       "      <td>2015-05-04</td>\n",
       "      <td>LF85GK2DBRYS10ZA</td>\n",
       "      <td>Colleen Smialek</td>\n",
       "      <td>7ZANOLGQK6GS8M6K</td>\n",
       "      <td>Watery Barge</td>\n",
       "    </tr>\n",
       "    <tr>\n",
       "      <th>26851</th>\n",
       "      <td>DRAQ8KY395S62DUI</td>\n",
       "      <td>2015-10-02</td>\n",
       "      <td>LF85GK2DBRYS10ZA</td>\n",
       "      <td>Colleen Smialek</td>\n",
       "      <td>7ZANOLGQK6GS8M6K</td>\n",
       "      <td>Watery Barge</td>\n",
       "    </tr>\n",
       "    <tr>\n",
       "      <th>26852</th>\n",
       "      <td>7ZU10X0S71A9ISB2</td>\n",
       "      <td>2014-11-17</td>\n",
       "      <td>LF85GK2DBRYS10ZA</td>\n",
       "      <td>Colleen Smialek</td>\n",
       "      <td>7ZANOLGQK6GS8M6K</td>\n",
       "      <td>Watery Barge</td>\n",
       "    </tr>\n",
       "    <tr>\n",
       "      <th>26853</th>\n",
       "      <td>FQFTQEKQ4D7JYS8K</td>\n",
       "      <td>2017-05-08</td>\n",
       "      <td>LF85GK2DBRYS10ZA</td>\n",
       "      <td>Colleen Smialek</td>\n",
       "      <td>7ZANOLGQK6GS8M6K</td>\n",
       "      <td>Watery Barge</td>\n",
       "    </tr>\n",
       "  </tbody>\n",
       "</table>\n",
       "<p>26854 rows × 6 columns</p>\n",
       "</div>"
      ],
      "text/plain": [
       "               Order Id        Date        Company Id         Devied_col  \\\n",
       "0      80EYLOKP9E762WKG  2017-02-18  LJKS5NK6788CYMUU  Jessie Mcallister   \n",
       "1      TLEXR1HZWTUTBHPB  2015-07-30  LJKS5NK6788CYMUU  Jessie Mcallister   \n",
       "2      839FKFW2LLX4LMBB  2016-05-27  LJKS5NK6788CYMUU  Jessie Mcallister   \n",
       "3      97OX39BGVMHODLJM  2018-09-27  LJKS5NK6788CYMUU  Jessie Mcallister   \n",
       "4      5T4LGH4XGBWOD49Z  2016-01-14  LJKS5NK6788CYMUU  Jessie Mcallister   \n",
       "...                 ...         ...               ...                ...   \n",
       "26849  USVU3XBOTB3UUSGX  2018-02-24  LF85GK2DBRYS10ZA    Colleen Smialek   \n",
       "26850  RHWPAUYMZAUR4790  2015-05-04  LF85GK2DBRYS10ZA    Colleen Smialek   \n",
       "26851  DRAQ8KY395S62DUI  2015-10-02  LF85GK2DBRYS10ZA    Colleen Smialek   \n",
       "26852  7ZU10X0S71A9ISB2  2014-11-17  LF85GK2DBRYS10ZA    Colleen Smialek   \n",
       "26853  FQFTQEKQ4D7JYS8K  2017-05-08  LF85GK2DBRYS10ZA    Colleen Smialek   \n",
       "\n",
       "           Sales Rep Id            Company Name  \n",
       "0      97UNNAT790E0WM4N  Chimera-Chasing Casbah  \n",
       "1      97UNNAT790E0WM4N  Chimera-Chasing Casbah  \n",
       "2      97UNNAT790E0WM4N  Chimera-Chasing Casbah  \n",
       "3      97UNNAT790E0WM4N  Chimera-Chasing Casbah  \n",
       "4      97UNNAT790E0WM4N  Chimera-Chasing Casbah  \n",
       "...                 ...                     ...  \n",
       "26849  7ZANOLGQK6GS8M6K            Watery Barge  \n",
       "26850  7ZANOLGQK6GS8M6K            Watery Barge  \n",
       "26851  7ZANOLGQK6GS8M6K            Watery Barge  \n",
       "26852  7ZANOLGQK6GS8M6K            Watery Barge  \n",
       "26853  7ZANOLGQK6GS8M6K            Watery Barge  \n",
       "\n",
       "[26854 rows x 6 columns]"
      ]
     },
     "execution_count": 20,
     "metadata": {},
     "output_type": "execute_result"
    }
   ],
   "source": [
    "pd.merge(ol[['Order Id','Date','Company Id']],\n",
    "         st.rename(columns={'Sales Rep':'Devied_col'}),left_on='Company Id',right_on='Company Id')"
   ]
  },
  {
   "cell_type": "code",
   "execution_count": 21,
   "metadata": {},
   "outputs": [
    {
     "data": {
      "text/html": [
       "<div>\n",
       "<style scoped>\n",
       "    .dataframe tbody tr th:only-of-type {\n",
       "        vertical-align: middle;\n",
       "    }\n",
       "\n",
       "    .dataframe tbody tr th {\n",
       "        vertical-align: top;\n",
       "    }\n",
       "\n",
       "    .dataframe thead th {\n",
       "        text-align: right;\n",
       "    }\n",
       "</style>\n",
       "<table border=\"1\" class=\"dataframe\">\n",
       "  <thead>\n",
       "    <tr style=\"text-align: right;\">\n",
       "      <th></th>\n",
       "      <th>Order Id</th>\n",
       "      <th>Date</th>\n",
       "      <th>Meal Id</th>\n",
       "      <th>Company Id</th>\n",
       "      <th>Date of Meal</th>\n",
       "      <th>Participants</th>\n",
       "      <th>Meal Price</th>\n",
       "      <th>Type of Meal</th>\n",
       "      <th>Heroes Adjustment</th>\n",
       "    </tr>\n",
       "  </thead>\n",
       "  <tbody>\n",
       "    <tr>\n",
       "      <th>0</th>\n",
       "      <td>839FKFW2LLX4LMBB</td>\n",
       "      <td>2016-05-27</td>\n",
       "      <td>INBUX904GIHI8YBD</td>\n",
       "      <td>LJKS5NK6788CYMUU</td>\n",
       "      <td>2016-05-31 07:00:00+02:00</td>\n",
       "      <td>['David Bishop']</td>\n",
       "      <td>469.0</td>\n",
       "      <td>Breakfast</td>\n",
       "      <td>False</td>\n",
       "    </tr>\n",
       "    <tr>\n",
       "      <th>1</th>\n",
       "      <td>97OX39BGVMHODLJM</td>\n",
       "      <td>2018-09-27</td>\n",
       "      <td>J0MMOOPP709DIDIE</td>\n",
       "      <td>LJKS5NK6788CYMUU</td>\n",
       "      <td>2018-10-01 20:00:00+02:00</td>\n",
       "      <td>['David Bishop']</td>\n",
       "      <td>22.0</td>\n",
       "      <td>Dinner</td>\n",
       "      <td>False</td>\n",
       "    </tr>\n",
       "  </tbody>\n",
       "</table>\n",
       "</div>"
      ],
      "text/plain": [
       "           Order Id        Date           Meal Id        Company Id  \\\n",
       "0  839FKFW2LLX4LMBB  2016-05-27  INBUX904GIHI8YBD  LJKS5NK6788CYMUU   \n",
       "1  97OX39BGVMHODLJM  2018-09-27  J0MMOOPP709DIDIE  LJKS5NK6788CYMUU   \n",
       "\n",
       "                Date of Meal      Participants  Meal Price Type of Meal  \\\n",
       "0  2016-05-31 07:00:00+02:00  ['David Bishop']       469.0    Breakfast   \n",
       "1  2018-10-01 20:00:00+02:00  ['David Bishop']        22.0       Dinner   \n",
       "\n",
       "  Heroes Adjustment  \n",
       "0             False  \n",
       "1             False  "
      ]
     },
     "execution_count": 21,
     "metadata": {},
     "output_type": "execute_result"
    }
   ],
   "source": [
    "df.head(2)"
   ]
  },
  {
   "cell_type": "code",
   "execution_count": 23,
   "metadata": {},
   "outputs": [
    {
     "data": {
      "text/html": [
       "<div>\n",
       "<style scoped>\n",
       "    .dataframe tbody tr th:only-of-type {\n",
       "        vertical-align: middle;\n",
       "    }\n",
       "\n",
       "    .dataframe tbody tr th {\n",
       "        vertical-align: top;\n",
       "    }\n",
       "\n",
       "    .dataframe thead th {\n",
       "        text-align: right;\n",
       "    }\n",
       "</style>\n",
       "<table border=\"1\" class=\"dataframe\">\n",
       "  <thead>\n",
       "    <tr style=\"text-align: right;\">\n",
       "      <th></th>\n",
       "      <th></th>\n",
       "      <th>Meal Price</th>\n",
       "    </tr>\n",
       "    <tr>\n",
       "      <th>Type of Meal</th>\n",
       "      <th>Meal Id</th>\n",
       "      <th></th>\n",
       "    </tr>\n",
       "  </thead>\n",
       "  <tbody>\n",
       "    <tr>\n",
       "      <th rowspan=\"5\" valign=\"top\">Breakfast</th>\n",
       "      <th>001DCDCE6S200FA9</th>\n",
       "      <td>52.0</td>\n",
       "    </tr>\n",
       "    <tr>\n",
       "      <th>003BA2DZAP6W2G2E</th>\n",
       "      <td>75.0</td>\n",
       "    </tr>\n",
       "    <tr>\n",
       "      <th>006R11Z6EG7B3P4E</th>\n",
       "      <td>163.0</td>\n",
       "    </tr>\n",
       "    <tr>\n",
       "      <th>00CWGA8NET6JVK8F</th>\n",
       "      <td>18.0</td>\n",
       "    </tr>\n",
       "    <tr>\n",
       "      <th>00IQ0SHRBHGD1PXN</th>\n",
       "      <td>259.0</td>\n",
       "    </tr>\n",
       "    <tr>\n",
       "      <th>...</th>\n",
       "      <th>...</th>\n",
       "      <td>...</td>\n",
       "    </tr>\n",
       "    <tr>\n",
       "      <th rowspan=\"5\" valign=\"top\">Lunch</th>\n",
       "      <th>ZY0AG8KJOBAY42ML</th>\n",
       "      <td>497.0</td>\n",
       "    </tr>\n",
       "    <tr>\n",
       "      <th>ZZ2L53SB7V7F8IPT</th>\n",
       "      <td>456.0</td>\n",
       "    </tr>\n",
       "    <tr>\n",
       "      <th>ZZ92DIHFEH6RVZ2D</th>\n",
       "      <td>23.0</td>\n",
       "    </tr>\n",
       "    <tr>\n",
       "      <th>ZZUW0R5XEOZYJXWT</th>\n",
       "      <td>359.0</td>\n",
       "    </tr>\n",
       "    <tr>\n",
       "      <th>ZZXR6JIJOQFJAMZI</th>\n",
       "      <td>326.0</td>\n",
       "    </tr>\n",
       "  </tbody>\n",
       "</table>\n",
       "<p>14361 rows × 1 columns</p>\n",
       "</div>"
      ],
      "text/plain": [
       "                               Meal Price\n",
       "Type of Meal Meal Id                     \n",
       "Breakfast    001DCDCE6S200FA9        52.0\n",
       "             003BA2DZAP6W2G2E        75.0\n",
       "             006R11Z6EG7B3P4E       163.0\n",
       "             00CWGA8NET6JVK8F        18.0\n",
       "             00IQ0SHRBHGD1PXN       259.0\n",
       "...                                   ...\n",
       "Lunch        ZY0AG8KJOBAY42ML       497.0\n",
       "             ZZ2L53SB7V7F8IPT       456.0\n",
       "             ZZ92DIHFEH6RVZ2D        23.0\n",
       "             ZZUW0R5XEOZYJXWT       359.0\n",
       "             ZZXR6JIJOQFJAMZI       326.0\n",
       "\n",
       "[14361 rows x 1 columns]"
      ]
     },
     "execution_count": 23,
     "metadata": {},
     "output_type": "execute_result"
    }
   ],
   "source": [
    "df.groupby(['Type of Meal','Meal Id']).agg({\"Meal Price\":np.mean})"
   ]
  },
  {
   "cell_type": "markdown",
   "metadata": {},
   "source": [
    "### Pivot table"
   ]
  },
  {
   "cell_type": "code",
   "execution_count": 28,
   "metadata": {},
   "outputs": [
    {
     "data": {
      "text/html": [
       "<div>\n",
       "<style scoped>\n",
       "    .dataframe tbody tr th:only-of-type {\n",
       "        vertical-align: middle;\n",
       "    }\n",
       "\n",
       "    .dataframe tbody tr th {\n",
       "        vertical-align: top;\n",
       "    }\n",
       "\n",
       "    .dataframe thead th {\n",
       "        text-align: right;\n",
       "    }\n",
       "</style>\n",
       "<table border=\"1\" class=\"dataframe\">\n",
       "  <thead>\n",
       "    <tr style=\"text-align: right;\">\n",
       "      <th></th>\n",
       "      <th></th>\n",
       "      <th>Meal Price</th>\n",
       "    </tr>\n",
       "    <tr>\n",
       "      <th>Type of Meal</th>\n",
       "      <th>Meal Id</th>\n",
       "      <th></th>\n",
       "    </tr>\n",
       "  </thead>\n",
       "  <tbody>\n",
       "    <tr>\n",
       "      <th rowspan=\"5\" valign=\"top\">Breakfast</th>\n",
       "      <th>001DCDCE6S200FA9</th>\n",
       "      <td>52.0</td>\n",
       "    </tr>\n",
       "    <tr>\n",
       "      <th>003BA2DZAP6W2G2E</th>\n",
       "      <td>75.0</td>\n",
       "    </tr>\n",
       "    <tr>\n",
       "      <th>006R11Z6EG7B3P4E</th>\n",
       "      <td>163.0</td>\n",
       "    </tr>\n",
       "    <tr>\n",
       "      <th>00CWGA8NET6JVK8F</th>\n",
       "      <td>18.0</td>\n",
       "    </tr>\n",
       "    <tr>\n",
       "      <th>00IQ0SHRBHGD1PXN</th>\n",
       "      <td>259.0</td>\n",
       "    </tr>\n",
       "    <tr>\n",
       "      <th>...</th>\n",
       "      <th>...</th>\n",
       "      <td>...</td>\n",
       "    </tr>\n",
       "    <tr>\n",
       "      <th rowspan=\"5\" valign=\"top\">Lunch</th>\n",
       "      <th>ZY0AG8KJOBAY42ML</th>\n",
       "      <td>497.0</td>\n",
       "    </tr>\n",
       "    <tr>\n",
       "      <th>ZZ2L53SB7V7F8IPT</th>\n",
       "      <td>456.0</td>\n",
       "    </tr>\n",
       "    <tr>\n",
       "      <th>ZZ92DIHFEH6RVZ2D</th>\n",
       "      <td>23.0</td>\n",
       "    </tr>\n",
       "    <tr>\n",
       "      <th>ZZUW0R5XEOZYJXWT</th>\n",
       "      <td>359.0</td>\n",
       "    </tr>\n",
       "    <tr>\n",
       "      <th>ZZXR6JIJOQFJAMZI</th>\n",
       "      <td>326.0</td>\n",
       "    </tr>\n",
       "  </tbody>\n",
       "</table>\n",
       "<p>14361 rows × 1 columns</p>\n",
       "</div>"
      ],
      "text/plain": [
       "                               Meal Price\n",
       "Type of Meal Meal Id                     \n",
       "Breakfast    001DCDCE6S200FA9        52.0\n",
       "             003BA2DZAP6W2G2E        75.0\n",
       "             006R11Z6EG7B3P4E       163.0\n",
       "             00CWGA8NET6JVK8F        18.0\n",
       "             00IQ0SHRBHGD1PXN       259.0\n",
       "...                                   ...\n",
       "Lunch        ZY0AG8KJOBAY42ML       497.0\n",
       "             ZZ2L53SB7V7F8IPT       456.0\n",
       "             ZZ92DIHFEH6RVZ2D        23.0\n",
       "             ZZUW0R5XEOZYJXWT       359.0\n",
       "             ZZXR6JIJOQFJAMZI       326.0\n",
       "\n",
       "[14361 rows x 1 columns]"
      ]
     },
     "execution_count": 28,
     "metadata": {},
     "output_type": "execute_result"
    }
   ],
   "source": [
    "pd.pivot_table(df,index=['Type of Meal','Meal Id'],values='Meal Price',aggfunc=np.mean)"
   ]
  },
  {
   "cell_type": "code",
   "execution_count": 29,
   "metadata": {},
   "outputs": [
    {
     "data": {
      "text/html": [
       "<div>\n",
       "<style scoped>\n",
       "    .dataframe tbody tr th:only-of-type {\n",
       "        vertical-align: middle;\n",
       "    }\n",
       "\n",
       "    .dataframe tbody tr th {\n",
       "        vertical-align: top;\n",
       "    }\n",
       "\n",
       "    .dataframe thead th {\n",
       "        text-align: right;\n",
       "    }\n",
       "</style>\n",
       "<table border=\"1\" class=\"dataframe\">\n",
       "  <thead>\n",
       "    <tr style=\"text-align: right;\">\n",
       "      <th></th>\n",
       "      <th></th>\n",
       "      <th></th>\n",
       "      <th>Meal Price</th>\n",
       "    </tr>\n",
       "    <tr>\n",
       "      <th>Type of Meal</th>\n",
       "      <th>Meal Id</th>\n",
       "      <th>Heroes Adjustment</th>\n",
       "      <th></th>\n",
       "    </tr>\n",
       "  </thead>\n",
       "  <tbody>\n",
       "    <tr>\n",
       "      <th rowspan=\"5\" valign=\"top\">Breakfast</th>\n",
       "      <th>001DCDCE6S200FA9</th>\n",
       "      <th>False</th>\n",
       "      <td>52.0</td>\n",
       "    </tr>\n",
       "    <tr>\n",
       "      <th>003BA2DZAP6W2G2E</th>\n",
       "      <th>False</th>\n",
       "      <td>75.0</td>\n",
       "    </tr>\n",
       "    <tr>\n",
       "      <th>006R11Z6EG7B3P4E</th>\n",
       "      <th>False</th>\n",
       "      <td>163.0</td>\n",
       "    </tr>\n",
       "    <tr>\n",
       "      <th>00CWGA8NET6JVK8F</th>\n",
       "      <th>False</th>\n",
       "      <td>18.0</td>\n",
       "    </tr>\n",
       "    <tr>\n",
       "      <th>00IQ0SHRBHGD1PXN</th>\n",
       "      <th>False</th>\n",
       "      <td>259.0</td>\n",
       "    </tr>\n",
       "    <tr>\n",
       "      <th>...</th>\n",
       "      <th>...</th>\n",
       "      <th>...</th>\n",
       "      <td>...</td>\n",
       "    </tr>\n",
       "    <tr>\n",
       "      <th rowspan=\"5\" valign=\"top\">Lunch</th>\n",
       "      <th>ZY0AG8KJOBAY42ML</th>\n",
       "      <th>False</th>\n",
       "      <td>497.0</td>\n",
       "    </tr>\n",
       "    <tr>\n",
       "      <th>ZZ2L53SB7V7F8IPT</th>\n",
       "      <th>False</th>\n",
       "      <td>456.0</td>\n",
       "    </tr>\n",
       "    <tr>\n",
       "      <th>ZZ92DIHFEH6RVZ2D</th>\n",
       "      <th>False</th>\n",
       "      <td>23.0</td>\n",
       "    </tr>\n",
       "    <tr>\n",
       "      <th>ZZUW0R5XEOZYJXWT</th>\n",
       "      <th>False</th>\n",
       "      <td>359.0</td>\n",
       "    </tr>\n",
       "    <tr>\n",
       "      <th>ZZXR6JIJOQFJAMZI</th>\n",
       "      <th>False</th>\n",
       "      <td>326.0</td>\n",
       "    </tr>\n",
       "  </tbody>\n",
       "</table>\n",
       "<p>14361 rows × 1 columns</p>\n",
       "</div>"
      ],
      "text/plain": [
       "                                                 Meal Price\n",
       "Type of Meal Meal Id          Heroes Adjustment            \n",
       "Breakfast    001DCDCE6S200FA9 False                    52.0\n",
       "             003BA2DZAP6W2G2E False                    75.0\n",
       "             006R11Z6EG7B3P4E False                   163.0\n",
       "             00CWGA8NET6JVK8F False                    18.0\n",
       "             00IQ0SHRBHGD1PXN False                   259.0\n",
       "...                                                     ...\n",
       "Lunch        ZY0AG8KJOBAY42ML False                   497.0\n",
       "             ZZ2L53SB7V7F8IPT False                   456.0\n",
       "             ZZ92DIHFEH6RVZ2D False                    23.0\n",
       "             ZZUW0R5XEOZYJXWT False                   359.0\n",
       "             ZZXR6JIJOQFJAMZI False                   326.0\n",
       "\n",
       "[14361 rows x 1 columns]"
      ]
     },
     "execution_count": 29,
     "metadata": {},
     "output_type": "execute_result"
    }
   ],
   "source": [
    "### Assignment : Type of Meal,Meal Id,Heroes Adjustment\n",
    "pd.pivot_table(df,index=['Type of Meal','Meal Id','Heroes Adjustment'],values='Meal Price',aggfunc=np.mean)"
   ]
  },
  {
   "cell_type": "code",
   "execution_count": 31,
   "metadata": {},
   "outputs": [],
   "source": [
    "temp = df.groupby(['Type of Meal','Meal Id','Heroes Adjustment']).agg({\"Meal Price\":np.mean})"
   ]
  },
  {
   "cell_type": "code",
   "execution_count": 32,
   "metadata": {},
   "outputs": [
    {
     "data": {
      "text/html": [
       "<div>\n",
       "<style scoped>\n",
       "    .dataframe tbody tr th:only-of-type {\n",
       "        vertical-align: middle;\n",
       "    }\n",
       "\n",
       "    .dataframe tbody tr th {\n",
       "        vertical-align: top;\n",
       "    }\n",
       "\n",
       "    .dataframe thead th {\n",
       "        text-align: right;\n",
       "    }\n",
       "</style>\n",
       "<table border=\"1\" class=\"dataframe\">\n",
       "  <thead>\n",
       "    <tr style=\"text-align: right;\">\n",
       "      <th></th>\n",
       "      <th></th>\n",
       "      <th></th>\n",
       "      <th>Meal Price</th>\n",
       "    </tr>\n",
       "    <tr>\n",
       "      <th>Type of Meal</th>\n",
       "      <th>Meal Id</th>\n",
       "      <th>Heroes Adjustment</th>\n",
       "      <th></th>\n",
       "    </tr>\n",
       "  </thead>\n",
       "  <tbody>\n",
       "    <tr>\n",
       "      <th rowspan=\"2\" valign=\"top\">Breakfast</th>\n",
       "      <th>001DCDCE6S200FA9</th>\n",
       "      <th>False</th>\n",
       "      <td>52.0</td>\n",
       "    </tr>\n",
       "    <tr>\n",
       "      <th>003BA2DZAP6W2G2E</th>\n",
       "      <th>False</th>\n",
       "      <td>75.0</td>\n",
       "    </tr>\n",
       "  </tbody>\n",
       "</table>\n",
       "</div>"
      ],
      "text/plain": [
       "                                                 Meal Price\n",
       "Type of Meal Meal Id          Heroes Adjustment            \n",
       "Breakfast    001DCDCE6S200FA9 False                    52.0\n",
       "             003BA2DZAP6W2G2E False                    75.0"
      ]
     },
     "execution_count": 32,
     "metadata": {},
     "output_type": "execute_result"
    }
   ],
   "source": [
    "temp.head(2)"
   ]
  },
  {
   "cell_type": "code",
   "execution_count": 34,
   "metadata": {},
   "outputs": [
    {
     "data": {
      "text/html": [
       "<div>\n",
       "<style scoped>\n",
       "    .dataframe tbody tr th:only-of-type {\n",
       "        vertical-align: middle;\n",
       "    }\n",
       "\n",
       "    .dataframe tbody tr th {\n",
       "        vertical-align: top;\n",
       "    }\n",
       "\n",
       "    .dataframe thead tr th {\n",
       "        text-align: left;\n",
       "    }\n",
       "\n",
       "    .dataframe thead tr:last-of-type th {\n",
       "        text-align: right;\n",
       "    }\n",
       "</style>\n",
       "<table border=\"1\" class=\"dataframe\">\n",
       "  <thead>\n",
       "    <tr>\n",
       "      <th></th>\n",
       "      <th></th>\n",
       "      <th colspan=\"3\" halign=\"left\">Meal Price</th>\n",
       "    </tr>\n",
       "    <tr>\n",
       "      <th></th>\n",
       "      <th>Type of Meal</th>\n",
       "      <th>Breakfast</th>\n",
       "      <th>Dinner</th>\n",
       "      <th>Lunch</th>\n",
       "    </tr>\n",
       "    <tr>\n",
       "      <th>Meal Id</th>\n",
       "      <th>Heroes Adjustment</th>\n",
       "      <th></th>\n",
       "      <th></th>\n",
       "      <th></th>\n",
       "    </tr>\n",
       "  </thead>\n",
       "  <tbody>\n",
       "    <tr>\n",
       "      <th>001DCDCE6S200FA9</th>\n",
       "      <th>False</th>\n",
       "      <td>52.0</td>\n",
       "      <td>NaN</td>\n",
       "      <td>NaN</td>\n",
       "    </tr>\n",
       "    <tr>\n",
       "      <th>003BA2DZAP6W2G2E</th>\n",
       "      <th>False</th>\n",
       "      <td>75.0</td>\n",
       "      <td>NaN</td>\n",
       "      <td>NaN</td>\n",
       "    </tr>\n",
       "  </tbody>\n",
       "</table>\n",
       "</div>"
      ],
      "text/plain": [
       "                                   Meal Price             \n",
       "Type of Meal                        Breakfast Dinner Lunch\n",
       "Meal Id          Heroes Adjustment                        \n",
       "001DCDCE6S200FA9 False                   52.0    NaN   NaN\n",
       "003BA2DZAP6W2G2E False                   75.0    NaN   NaN"
      ]
     },
     "execution_count": 34,
     "metadata": {},
     "output_type": "execute_result"
    }
   ],
   "source": [
    "temp.unstack(level = 'Type of Meal').head(2)"
   ]
  },
  {
   "cell_type": "code",
   "execution_count": null,
   "metadata": {},
   "outputs": [],
   "source": []
  }
 ],
 "metadata": {
  "kernelspec": {
   "display_name": "Python 3",
   "language": "python",
   "name": "python3"
  },
  "language_info": {
   "codemirror_mode": {
    "name": "ipython",
    "version": 3
   },
   "file_extension": ".py",
   "mimetype": "text/x-python",
   "name": "python",
   "nbconvert_exporter": "python",
   "pygments_lexer": "ipython3",
   "version": "3.7.6"
  }
 },
 "nbformat": 4,
 "nbformat_minor": 4
}
