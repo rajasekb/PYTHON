{
 "cells": [
  {
   "cell_type": "code",
   "execution_count": 2,
   "metadata": {},
   "outputs": [],
   "source": [
    "import sys\n",
    "import os\n",
    "import requests\n",
    "import json\n",
    "import subprocess \n",
    "import datetime"
   ]
  },
  {
   "cell_type": "code",
   "execution_count": null,
   "metadata": {},
   "outputs": [],
   "source": [
    "#Function to write output to log file\n",
    "\n",
    "def write_log(text,file):\n",
    "    lf = open(file,'a')\n",
    "    lf.write(text + \"\\n\")\n",
    "    return"
   ]
  },
  {
   "cell_type": "code",
   "execution_count": 4,
   "metadata": {},
   "outputs": [],
   "source": [
    "# Assign variables to reading and writing files\n",
    "\n",
    "logfile = datetime.datetime.now().strftime(r'C:\\Users\\Lenovo\\Desktop\\Data_Science\\Inceptez\\December\\PYTHON\\MP_RAP_%Y%m%d%H%M%S.log')"
   ]
  },
  {
   "cell_type": "code",
   "execution_count": 5,
   "metadata": {},
   "outputs": [
    {
     "ename": "SyntaxError",
     "evalue": "invalid syntax (<ipython-input-5-83bd692b9e84>, line 4)",
     "output_type": "error",
     "traceback": [
      "\u001b[1;36m  File \u001b[1;32m\"<ipython-input-5-83bd692b9e84>\"\u001b[1;36m, line \u001b[1;32m4\u001b[0m\n\u001b[1;33m    os.remove(sys.r'C:\\Users\\Lenovo\\Desktop\\Data_Science\\Inceptez\\December\\PYTHON\\MP_RAP_%Y%m%d%H%M%S.log')\u001b[0m\n\u001b[1;37m                                                                                                         ^\u001b[0m\n\u001b[1;31mSyntaxError\u001b[0m\u001b[1;31m:\u001b[0m invalid syntax\n"
     ]
    }
   ],
   "source": [
    "#Delete the output file if it exits\n",
    "if os.path.isfile(r'C:\\Users\\Lenovo\\Desktop\\Data_Science\\Inceptez\\December\\PYTHON\\MP_RAP_%Y%m%d%H%M%S.log'):\n",
    "    write_log(\"Deleting th old output file\")\n",
    "    os.remove(sys.r'C:\\Users\\Lenovo\\Desktop\\Data_Science\\Inceptez\\December\\PYTHON\\MP_RAP_%Y%m%d%H%M%S.log')\n",
    "    write_log(\"Deleted the log file\",logfile)"
   ]
  }
 ],
 "metadata": {
  "kernelspec": {
   "display_name": "Python 3",
   "language": "python",
   "name": "python3"
  },
  "language_info": {
   "codemirror_mode": {
    "name": "ipython",
    "version": 3
   },
   "file_extension": ".py",
   "mimetype": "text/x-python",
   "name": "python",
   "nbconvert_exporter": "python",
   "pygments_lexer": "ipython3",
   "version": "3.7.6"
  }
 },
 "nbformat": 4,
 "nbformat_minor": 4
}
